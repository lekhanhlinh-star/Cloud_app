{
 "cells": [
  {
   "cell_type": "markdown",
   "metadata": {},
   "source": [
    "# Lab 2 - kNN and Bias-Variance Tradeoff\n",
    "\n",
    "- Your name: Lê Khánh linh\n",
    "\n",
    "- Your student code: 20110377"
   ]
  },
  {
   "cell_type": "markdown",
   "metadata": {},
   "source": [
    "# I. Hướng dẫn"
   ]
  },
  {
   "cell_type": "markdown",
   "metadata": {},
   "source": [
    "## 1. Minh họa bias-variance tradeoff với k-NN cho hồi quy"
   ]
  },
  {
   "cell_type": "markdown",
   "metadata": {},
   "source": [
    "### 1.1. Tìm hiểu tổng quan về dữ liệu\n",
    "\n",
    "Phần này sẽ dùng tập dữ liệu `boston` trong thư viện `sklearn.datasets` để minh họa.\n",
    "\n",
    "#### 1.1.1. Load dữ liệu"
   ]
  },
  {
   "cell_type": "code",
   "execution_count": 104,
   "metadata": {},
   "outputs": [
    {
     "name": "stderr",
     "output_type": "stream",
     "text": [
      "c:\\Users\\20110\\anaconda3\\lib\\site-packages\\sklearn\\utils\\deprecation.py:87: FutureWarning: Function load_boston is deprecated; `load_boston` is deprecated in 1.0 and will be removed in 1.2.\n",
      "\n",
      "    The Boston housing prices dataset has an ethical problem. You can refer to\n",
      "    the documentation of this function for further details.\n",
      "\n",
      "    The scikit-learn maintainers therefore strongly discourage the use of this\n",
      "    dataset unless the purpose of the code is to study and educate about\n",
      "    ethical issues in data science and machine learning.\n",
      "\n",
      "    In this special case, you can fetch the dataset from the original\n",
      "    source::\n",
      "\n",
      "        import pandas as pd\n",
      "        import numpy as np\n",
      "\n",
      "        data_url = \"http://lib.stat.cmu.edu/datasets/boston\"\n",
      "        raw_df = pd.read_csv(data_url, sep=\"\\s+\", skiprows=22, header=None)\n",
      "        data = np.hstack([raw_df.values[::2, :], raw_df.values[1::2, :2]])\n",
      "        target = raw_df.values[1::2, 2]\n",
      "\n",
      "    Alternative datasets include the California housing dataset (i.e.\n",
      "    :func:`~sklearn.datasets.fetch_california_housing`) and the Ames housing\n",
      "    dataset. You can load the datasets as follows::\n",
      "\n",
      "        from sklearn.datasets import fetch_california_housing\n",
      "        housing = fetch_california_housing()\n",
      "\n",
      "    for the California housing dataset and::\n",
      "\n",
      "        from sklearn.datasets import fetch_openml\n",
      "        housing = fetch_openml(name=\"house_prices\", as_frame=True)\n",
      "\n",
      "    for the Ames housing dataset.\n",
      "  warnings.warn(msg, category=FutureWarning)\n"
     ]
    }
   ],
   "source": [
    "from sklearn import datasets\n",
    "\n",
    "boston = datasets.load_boston()"
   ]
  },
  {
   "cell_type": "markdown",
   "metadata": {},
   "source": [
    "#### 1.1.2. Khám phá tổng quan về dữ liệu"
   ]
  },
  {
   "cell_type": "code",
   "execution_count": 105,
   "metadata": {},
   "outputs": [
    {
     "data": {
      "text/plain": [
       "['DESCR', 'data', 'data_module', 'feature_names', 'filename', 'target']"
      ]
     },
     "execution_count": 105,
     "metadata": {},
     "output_type": "execute_result"
    }
   ],
   "source": [
    "dir(boston)"
   ]
  },
  {
   "cell_type": "code",
   "execution_count": 106,
   "metadata": {},
   "outputs": [
    {
     "name": "stdout",
     "output_type": "stream",
     "text": [
      ".. _boston_dataset:\n",
      "\n",
      "Boston house prices dataset\n",
      "---------------------------\n",
      "\n",
      "**Data Set Characteristics:**  \n",
      "\n",
      "    :Number of Instances: 506 \n",
      "\n",
      "    :Number of Attributes: 13 numeric/categorical predictive. Median Value (attribute 14) is usually the target.\n",
      "\n",
      "    :Attribute Information (in order):\n",
      "        - CRIM     per capita crime rate by town\n",
      "        - ZN       proportion of residential land zoned for lots over 25,000 sq.ft.\n",
      "        - INDUS    proportion of non-retail business acres per town\n",
      "        - CHAS     Charles River dummy variable (= 1 if tract bounds river; 0 otherwise)\n",
      "        - NOX      nitric oxides concentration (parts per 10 million)\n",
      "        - RM       average number of rooms per dwelling\n",
      "        - AGE      proportion of owner-occupied units built prior to 1940\n",
      "        - DIS      weighted distances to five Boston employment centres\n",
      "        - RAD      index of accessibility to radial highways\n",
      "        - TAX      full-value property-tax rate per $10,000\n",
      "        - PTRATIO  pupil-teacher ratio by town\n",
      "        - B        1000(Bk - 0.63)^2 where Bk is the proportion of black people by town\n",
      "        - LSTAT    % lower status of the population\n",
      "        - MEDV     Median value of owner-occupied homes in $1000's\n",
      "\n",
      "    :Missing Attribute Values: None\n",
      "\n",
      "    :Creator: Harrison, D. and Rubinfeld, D.L.\n",
      "\n",
      "This is a copy of UCI ML housing dataset.\n",
      "https://archive.ics.uci.edu/ml/machine-learning-databases/housing/\n",
      "\n",
      "\n",
      "This dataset was taken from the StatLib library which is maintained at Carnegie Mellon University.\n",
      "\n",
      "The Boston house-price data of Harrison, D. and Rubinfeld, D.L. 'Hedonic\n",
      "prices and the demand for clean air', J. Environ. Economics & Management,\n",
      "vol.5, 81-102, 1978.   Used in Belsley, Kuh & Welsch, 'Regression diagnostics\n",
      "...', Wiley, 1980.   N.B. Various transformations are used in the table on\n",
      "pages 244-261 of the latter.\n",
      "\n",
      "The Boston house-price data has been used in many machine learning papers that address regression\n",
      "problems.   \n",
      "     \n",
      ".. topic:: References\n",
      "\n",
      "   - Belsley, Kuh & Welsch, 'Regression diagnostics: Identifying Influential Data and Sources of Collinearity', Wiley, 1980. 244-261.\n",
      "   - Quinlan,R. (1993). Combining Instance-Based and Model-Based Learning. In Proceedings on the Tenth International Conference of Machine Learning, 236-243, University of Massachusetts, Amherst. Morgan Kaufmann.\n",
      "\n"
     ]
    }
   ],
   "source": [
    "print(boston.DESCR)"
   ]
  },
  {
   "cell_type": "code",
   "execution_count": 107,
   "metadata": {},
   "outputs": [
    {
     "name": "stdout",
     "output_type": "stream",
     "text": [
      "Number of instances: 506\n"
     ]
    }
   ],
   "source": [
    "X = boston.data\n",
    "y = boston.target\n",
    "\n",
    "print('Number of instances:', len(y))"
   ]
  },
  {
   "cell_type": "markdown",
   "metadata": {},
   "source": [
    "### 1.2. Chia dữ liệu\n",
    "\n",
    "Ta sẽ chia dữ liệu làm 2 tập train và test với tỷ lệ 70/30."
   ]
  },
  {
   "cell_type": "code",
   "execution_count": 108,
   "metadata": {},
   "outputs": [
    {
     "name": "stdout",
     "output_type": "stream",
     "text": [
      "Labels counts in y: 506\n",
      "Labels counts in y_train: 354\n",
      "Labels counts in y_test: 152\n"
     ]
    }
   ],
   "source": [
    "from sklearn.model_selection import train_test_split\n",
    "\n",
    "X_train, X_test, y_train, y_test = train_test_split(\n",
    "    X, y, test_size=0.3, random_state=1)\n",
    "\n",
    "print('Labels counts in y:', len(y))\n",
    "print('Labels counts in y_train:', len(y_train))\n",
    "print('Labels counts in y_test:', len(y_test))"
   ]
  },
  {
   "cell_type": "markdown",
   "metadata": {},
   "source": [
    "### 1.3. Fit mô hình và trực quan hóa kết quả\n",
    "\n",
    "Phần này ta sẽ đánh giá và vẽ biểu đồ kết quả của mô hình k-NN trên tập test với $k \\in \\{ 1, 5, 10, 15, 20, 25, 30 \\}$ dùng độ đo `mean squared error (MSE)`."
   ]
  },
  {
   "cell_type": "code",
   "execution_count": 109,
   "metadata": {},
   "outputs": [
    {
     "data": {
      "text/plain": [
       "Text(0, 0.5, 'MSE')"
      ]
     },
     "execution_count": 109,
     "metadata": {},
     "output_type": "execute_result"
    },
    {
     "data": {
      "image/png": "[encoded data removed]",
      "text/plain": [
       "<Figure size 432x288 with 1 Axes>"
      ]
     },
     "metadata": {
      "needs_background": "light"
     },
     "output_type": "display_data"
    }
   ],
   "source": [
    "from sklearn.neighbors import KNeighborsRegressor\n",
    "from sklearn.metrics import mean_squared_error\n",
    "import matplotlib.pyplot as plt\n",
    "\n",
    "numNeighbors = [1, 5, 10, 15, 20, 25, 30]\n",
    "trainMSE = []\n",
    "testMSE = []\n",
    "\n",
    "for k in numNeighbors:\n",
    "    reg = KNeighborsRegressor(n_neighbors=k, metric='minkowski', p=2)\n",
    "    reg.fit(X_train, y_train)\n",
    "    y_predTrain = reg.predict(X_train)\n",
    "    y_predTest = reg.predict(X_test)\n",
    "    trainMSE.append(mean_squared_error(y_train, y_predTrain))\n",
    "    testMSE.append(mean_squared_error(y_test, y_predTest))\n",
    "\n",
    "plt.plot(numNeighbors, trainMSE, 'ro-', numNeighbors, testMSE,'bv--')\n",
    "plt.legend(['Training MSE','Test MSE'])\n",
    "plt.xlabel('Number of neighbors')\n",
    "plt.ylabel('MSE')"
   ]
  },
  {
   "cell_type": "markdown",
   "metadata": {},
   "source": [
    "# II. Bài tập"
   ]
  },
  {
   "cell_type": "markdown",
   "metadata": {},
   "source": [
    "**Nhận xét**\n",
    "\n",
    "- Khi $k = 1$ mô hình cho kết quả (MSE) trên tập train rất tốt nhưng kết quả trên tập test khá cao. Mô hình có dấu hiệu overfitting.\n",
    "\n",
    "- Khi tăng $k$ lên ($k \\in \\{5, 10 \\}$) kết quả trên tập train tăng lên nhưng kết quả trên tập test lại giảm xuống (so với $k = 1$). Do đó, miền giá trị $k \\in [5, 10]$ có khả năng là miền giá trị mà mô hình cho kết quả tốt (good fit). \n",
    "\n",
    "- Khi tăng $k$ lên nữa ($k \\in \\{15, 20, 25, 30\\}$) kết quả trên tập train tăng lên và kết quả trên tập test có khuynh hướng tăng lên. Do đó, miền giá trị $k \\in [15, 30]$ nhiều khả năng là miền giá trị mà mô hình bị underfitting."
   ]
  },
  {
   "cell_type": "markdown",
   "metadata": {},
   "source": [
    "## Bài tập 1. Áp dụng thuật toán k-NN\n",
    "\n",
    "Cho dữ liệu huấn luyện (training data) như bảng bên dưới:\n",
    "\n",
    "| $x_1$ | $x_2$ | $y$ |\n",
    "|-------|-------|-----|\n",
    "|   1   |  0.5  |  1  |\n",
    "|   2   |   1   |  1  |\n",
    "|  2.5  |   2   |  1  |\n",
    "|   3   |   2   |  1  |\n",
    "|  1.5  |   2   | -1  |\n",
    "|  2.5  |   3   | -1  |\n",
    "|   1   |   2   | -1  |\n",
    "|   1   |   1   | -1  |\n",
    "\n",
    "Ta muốn sử dụng tập dữ liệu huấn luyện ở trên để đưa ra dự đoán, $\\hat{y}$, cho điểm dữ liệu kiểm tra không được gắn nhãn $x = (2.5, 1)$ sử dụng thuật toán k-NN."
   ]
  },
  {
   "cell_type": "markdown",
   "metadata": {},
   "source": [
    "1. Tính khoảng cách Eucledian giữa mỗi quan sát và điểm kiểm tra, $x = (2.5, 1)$ (tạo thêm cột $d$  mô tả khoảng cách giữa các điểm dữ liệu trong tập huấn luyện với điểm kiểm tra, $x = (2.5, 1)$, và điền giá trị vào cột này). Xuất kết quả ra như bảng bên dưới (giá trị cột $d$ là khoảng cách tính được).\n",
    "\n",
    "Tham khảo thêm về thư viện `numpy` ở: https://cs231n.github.io/python-numpy-tutorial/"
   ]
  },
  {
   "cell_type": "markdown",
   "metadata": {},
   "source": [
    "**Trả lời**"
   ]
  },
  {
   "cell_type": "markdown",
   "metadata": {},
   "source": [
    "1.a. Định nghĩa hàm tính khoảng cách Eucledian theo công thức sau:\n",
    "\n",
    "$$d(u, v) = \\sqrt{\\sum_{i = 1}^{n} (u_i - v_i)^2}$$"
   ]
  },
  {
   "cell_type": "code",
   "execution_count": 110,
   "metadata": {},
   "outputs": [],
   "source": [
    "import numpy as np"
   ]
  },
  {
   "cell_type": "code",
   "execution_count": 111,
   "metadata": {},
   "outputs": [
    {
     "name": "stdout",
     "output_type": "stream",
     "text": [
      "EuclideanDistance(u, v) =  1.0\n"
     ]
    }
   ],
   "source": [
    "def EuclideanDistance(u, v):\n",
    "    '''\n",
    "        Calculate the Eucledian distance of vector u and v\n",
    "    '''\n",
    "    ## BEGIN YOUR CODE\n",
    "    temp=np.array(u)-np.array(v)\n",
    "    sum_sp=np.dot(temp.T,temp)\n",
    "    return np.sqrt(sum_sp)\n",
    "    ## END YOUR CODE\n",
    "\n",
    "u = (0,0)\n",
    "v = (1,0)\n",
    "print(\"EuclideanDistance(u, v) = \", EuclideanDistance(u, v))"
   ]
  },
  {
   "cell_type": "markdown",
   "metadata": {},
   "source": [
    "1.b. Tính khoảng cách Eucledian giữa mỗi quan sát và điểm kiểm tra, 𝑥=(2.5,1)"
   ]
  },
  {
   "cell_type": "code",
   "execution_count": 112,
   "metadata": {},
   "outputs": [],
   "source": [
    "import numpy as np\n",
    "\n",
    "x = np.array([2.5, 1])\n",
    "\n",
    "X = np.array([[1, 0.5],\n",
    "              [2, 1],\n",
    "              [2.5, 2],\n",
    "              [3, 2],\n",
    "              [1.5, 2],\n",
    "              [2.5, 3],\n",
    "              [1, 2],\n",
    "              [1, 1]])\n",
    "y = np.array(['1','1','1','1','-1','-1','-1','-1'])\n"
   ]
  },
  {
   "cell_type": "code",
   "execution_count": 113,
   "metadata": {},
   "outputs": [
    {
     "data": {
      "text/plain": [
       "(2,)"
      ]
     },
     "execution_count": 113,
     "metadata": {},
     "output_type": "execute_result"
    }
   ],
   "source": [
    "x.shape"
   ]
  },
  {
   "cell_type": "code",
   "execution_count": 114,
   "metadata": {},
   "outputs": [
    {
     "data": {
      "text/plain": [
       "(8, 2)"
      ]
     },
     "execution_count": 114,
     "metadata": {},
     "output_type": "execute_result"
    }
   ],
   "source": [
    "X.shape"
   ]
  },
  {
   "cell_type": "code",
   "execution_count": 115,
   "metadata": {},
   "outputs": [
    {
     "data": {
      "text/plain": [
       "[1.5811388300841898,\n",
       " 0.5,\n",
       " 1.0,\n",
       " 1.118033988749895,\n",
       " 1.4142135623730951,\n",
       " 2.0,\n",
       " 1.8027756377319946,\n",
       " 1.5]"
      ]
     },
     "execution_count": 115,
     "metadata": {},
     "output_type": "execute_result"
    }
   ],
   "source": [
    "def distanceToWholeDataset(dataPoint,X):\n",
    "    n=X.shape[1]\n",
    "    distance_list=[]\n",
    "    for i in X:\n",
    "        i=i.reshape(n,)\n",
    "        distance_list.append(EuclideanDistance(dataPoint,i))\n",
    "    return distance_list\n",
    "\n",
    "\n",
    "distanceToWholeDataset(x,X)"
   ]
  },
  {
   "cell_type": "code",
   "execution_count": 116,
   "metadata": {},
   "outputs": [],
   "source": [
    "def get_classification(classes):\n",
    "    from collections import Counter\n",
    "    count = Counter(classes)\n",
    "    return count.most_common()[0][0]\n",
    "def KNN_classification_predictor(new_point,X,y,k):\n",
    "    distance_list=distanceToWholeDataset(new_point,X)\n",
    "    index=np.argsort(distance_list)[:k]\n",
    "    result=get_classification(y[index])\n",
    "    return result\n",
    "    "
   ]
  },
  {
   "cell_type": "code",
   "execution_count": 117,
   "metadata": {},
   "outputs": [
    {
     "data": {
      "text/plain": [
       "'1'"
      ]
     },
     "execution_count": 117,
     "metadata": {},
     "output_type": "execute_result"
    }
   ],
   "source": [
    "KNN_classification_predictor(x,X,y,3)"
   ]
  },
  {
   "cell_type": "markdown",
   "metadata": {},
   "source": [
    "| $x_1$ | $x_2$ | $y$ | $d$ |\n",
    "|-------|-------|-----|-----|\n",
    "|   1   |  0.5  |  1  |     |\n",
    "|   2   |   1   |  1  |     |\n",
    "|  2.5  |   2   |  1  |     |\n",
    "|   3   |   2   |  1  |     |\n",
    "|  1.5  |   2   | -1  |     |\n",
    "|  2.5  |   3   | -1  |     |\n",
    "|   1   |   2   | -1  |     |\n",
    "|   1   |   1   | -1  |     |"
   ]
  },
  {
   "cell_type": "markdown",
   "metadata": {},
   "source": [
    "2. Cho biết dự đoán của thuật toán $k$-NN cho $x = (2.5, 1)$ khi $k = 1$? Tại sao?"
   ]
  },
  {
   "cell_type": "markdown",
   "metadata": {},
   "source": [
    "**Trả lời**\n",
    "\n",
    "Với $x=(2.5,1)$ khi $k=1$ Kết quả phân loại `1` . Vì Khoảng cách từ này đến điểm $x=(2,1)$ là gần nhất có label là `1`"
   ]
  },
  {
   "cell_type": "code",
   "execution_count": 118,
   "metadata": {},
   "outputs": [
    {
     "name": "stdout",
     "output_type": "stream",
     "text": [
      "The predict of x=(2.5,1) is 1\n"
     ]
    }
   ],
   "source": [
    "print(\"The predict of x=(2.5,1) is\",KNN_classification_predictor(x,X,y,1))"
   ]
  },
  {
   "cell_type": "markdown",
   "metadata": {},
   "source": [
    "3. Cho biết dự đoán của thuật toán $k$-NN cho $x = (2.5, 1)$ khi $k = 3$? Tại sao?"
   ]
  },
  {
   "cell_type": "markdown",
   "metadata": {},
   "source": [
    "**Trả lời**\n",
    "\n",
    "Với $x=(2.5,1)$ khi $k=3$ Kết quả phân loại `1` . Vì Khoảng cách từ này đến các điểm $x=(2,1)$, $x=(2.5,2)$, $x=(3,2)$  là gần nhất có label là `1`"
   ]
  },
  {
   "cell_type": "code",
   "execution_count": 119,
   "metadata": {},
   "outputs": [
    {
     "name": "stdout",
     "output_type": "stream",
     "text": [
      "The predict of x=(2.5,1) is 1\n"
     ]
    }
   ],
   "source": [
    "print(\"The predict of x=(2.5,1) is\",KNN_classification_predictor(x,X,y,1))\n"
   ]
  },
  {
   "cell_type": "markdown",
   "metadata": {},
   "source": [
    "## Bài tập 2: Hiện thực thuật toán k-NN\n",
    "\n",
    "Ở bài tập này, bạn sẽ tự hiện thực thuật toán 1-NN (k = 1). Sau đó, bạn sẽ thử nghiệm thuật toán với tập dữ liệu `iris` từ thư viện `sklearn.datasets`. Phần bên dưới là các đoạn mã làm mẫu có một số chỗ còn chừa trống để bạn viết thêm vào."
   ]
  },
  {
   "cell_type": "markdown",
   "metadata": {},
   "source": [
    "### 2.1. Load và khám phá tổng quan về dữ liệu"
   ]
  },
  {
   "cell_type": "code",
   "execution_count": 120,
   "metadata": {},
   "outputs": [
    {
     "name": "stdout",
     "output_type": "stream",
     "text": [
      ".. _iris_dataset:\n",
      "\n",
      "Iris plants dataset\n",
      "--------------------\n",
      "\n",
      "**Data Set Characteristics:**\n",
      "\n",
      "    :Number of Instances: 150 (50 in each of three classes)\n",
      "    :Number of Attributes: 4 numeric, predictive attributes and the class\n",
      "    :Attribute Information:\n",
      "        - sepal length in cm\n",
      "        - sepal width in cm\n",
      "        - petal length in cm\n",
      "        - petal width in cm\n",
      "        - class:\n",
      "                - Iris-Setosa\n",
      "                - Iris-Versicolour\n",
      "                - Iris-Virginica\n",
      "                \n",
      "    :Summary Statistics:\n",
      "\n",
      "    ============== ==== ==== ======= ===== ====================\n",
      "                    Min  Max   Mean    SD   Class Correlation\n",
      "    ============== ==== ==== ======= ===== ====================\n",
      "    sepal length:   4.3  7.9   5.84   0.83    0.7826\n",
      "    sepal width:    2.0  4.4   3.05   0.43   -0.4194\n",
      "    petal length:   1.0  6.9   3.76   1.76    0.9490  (high!)\n",
      "    petal width:    0.1  2.5   1.20   0.76    0.9565  (high!)\n",
      "    ============== ==== ==== ======= ===== ====================\n",
      "\n",
      "    :Missing Attribute Values: None\n",
      "    :Class Distribution: 33.3% for each of 3 classes.\n",
      "    :Creator: R.A. Fisher\n",
      "    :Donor: Michael Marshall (MARSHALL%PLU@io.arc.nasa.gov)\n",
      "    :Date: July, 1988\n",
      "\n",
      "The famous Iris database, first used by Sir R.A. Fisher. The dataset is taken\n",
      "from Fisher's paper. Note that it's the same as in R, but not as in the UCI\n",
      "Machine Learning Repository, which has two wrong data points.\n",
      "\n",
      "This is perhaps the best known database to be found in the\n",
      "pattern recognition literature.  Fisher's paper is a classic in the field and\n",
      "is referenced frequently to this day.  (See Duda & Hart, for example.)  The\n",
      "data set contains 3 classes of 50 instances each, where each class refers to a\n",
      "type of iris plant.  One class is linearly separable from the other 2; the\n",
      "latter are NOT linearly separable from each other.\n",
      "\n",
      ".. topic:: References\n",
      "\n",
      "   - Fisher, R.A. \"The use of multiple measurements in taxonomic problems\"\n",
      "     Annual Eugenics, 7, Part II, 179-188 (1936); also in \"Contributions to\n",
      "     Mathematical Statistics\" (John Wiley, NY, 1950).\n",
      "   - Duda, R.O., & Hart, P.E. (1973) Pattern Classification and Scene Analysis.\n",
      "     (Q327.D83) John Wiley & Sons.  ISBN 0-471-22361-1.  See page 218.\n",
      "   - Dasarathy, B.V. (1980) \"Nosing Around the Neighborhood: A New System\n",
      "     Structure and Classification Rule for Recognition in Partially Exposed\n",
      "     Environments\".  IEEE Transactions on Pattern Analysis and Machine\n",
      "     Intelligence, Vol. PAMI-2, No. 1, 67-71.\n",
      "   - Gates, G.W. (1972) \"The Reduced Nearest Neighbor Rule\".  IEEE Transactions\n",
      "     on Information Theory, May 1972, 431-433.\n",
      "   - See also: 1988 MLC Proceedings, 54-64.  Cheeseman et al\"s AUTOCLASS II\n",
      "     conceptual clustering system finds 3 classes in the data.\n",
      "   - Many, many more ...\n"
     ]
    }
   ],
   "source": [
    "from sklearn import datasets\n",
    "import numpy as np\n",
    "\n",
    "iris = datasets.load_iris()\n",
    "print(iris.DESCR)\n",
    "X = iris.data\n",
    "y = iris.target"
   ]
  },
  {
   "cell_type": "markdown",
   "metadata": {},
   "source": [
    "### 2.2. Xáo trộn ngẫu nhiên và chia dữ liệu"
   ]
  },
  {
   "cell_type": "code",
   "execution_count": 121,
   "metadata": {},
   "outputs": [],
   "source": [
    "# Shuffle the data\n",
    "np.random.seed(0)\n",
    "shuffle = np.random.permutation(np.arange(X.shape[0]))\n",
    "X, y = X[shuffle], y[shuffle]\n",
    "\n",
    "# Split data into train and test set\n",
    "train_data, train_labels = X[:100], y[:100]\n",
    "test_data, test_labels = X[100:], y[100:]"
   ]
  },
  {
   "cell_type": "markdown",
   "metadata": {},
   "source": [
    "### 2.3. Định nghĩa lớp NearestNeighborClassifier\n",
    "\n",
    "Để đơn giản, bạn chỉ cần cài đặt thuật toán k-NN cho bài toán phân loại với k = 1. "
   ]
  },
  {
   "cell_type": "code",
   "execution_count": 122,
   "metadata": {},
   "outputs": [],
   "source": [
    "class NearestNeighborClassifier:\n",
    "    # Constructor\n",
    "    def __init__(self, metric = EuclideanDistance):\n",
    "        self.metric = metric\n",
    "    \n",
    "    # No training for Nearest Neighbors, just store the data\n",
    "    def fit(self, train_data, train_labels):\n",
    "        self.train_data = train_data\n",
    "        self.train_labels = train_labels\n",
    "    \n",
    "    # Make predictions for each test instance and return results\n",
    "    def predict(self, test_data):\n",
    "        results = []\n",
    "        for instance in test_data:\n",
    "            results.append(self._predict_instance(instance))\n",
    "        return results\n",
    "    \n",
    "    # Private function for making a single prediction\n",
    "    def _predict_instance(self, instance):\n",
    "        def EuclideanDistance(u, v):\n",
    "            ## BEGIN YOUR CODE\n",
    "            temp=np.array(u)-np.array(v)\n",
    "            sum_sp=np.dot(temp.T,temp)\n",
    "            return np.sqrt(sum_sp)\n",
    "        ## BEGIN YOUR CODE\n",
    "        def distanceToWholeDataset(dataPoint,X):\n",
    "            distance_list=[]\n",
    "            for i in X:\n",
    "                distance_list.append(EuclideanDistance(dataPoint,i))\n",
    "            return distance_list\n",
    "        def get_classification(classes):\n",
    "            from collections import Counter\n",
    "            count = Counter(classes)\n",
    "            return count.most_common()[0][0]\n",
    "        def KNN_classification_predictor(new_point,X,y,k=1):\n",
    "            distance_list=distanceToWholeDataset(new_point,X)\n",
    "            index=np.argsort(distance_list)[:k]\n",
    "            result=get_classification(y[index])\n",
    "            return result\n",
    "        return KNN_classification_predictor(instance,train_data,train_labels,1)\n",
    "        ## END YOUR CODE"
   ]
  },
  {
   "cell_type": "markdown",
   "metadata": {},
   "source": [
    "### 2.4. Thử nghiệm NearestNeighborClassifier"
   ]
  },
  {
   "cell_type": "code",
   "execution_count": 123,
   "metadata": {},
   "outputs": [
    {
     "name": "stdout",
     "output_type": "stream",
     "text": [
      "total: 50, correct: 48, accuracy: 0.96\n"
     ]
    }
   ],
   "source": [
    "nn = NearestNeighborClassifier()\n",
    "nn.fit(train_data, train_labels)\n",
    "preds = nn.predict(test_data)\n",
    "\n",
    "total = len(preds)\n",
    "correct = 0\n",
    "for pred, label in zip(preds, test_labels):\n",
    "    if pred == label: correct += 1\n",
    "\n",
    "print(\"total: %d, correct: %d, accuracy: %3.2f\" %(total, correct, 1.0*correct/total))"
   ]
  },
  {
   "cell_type": "markdown",
   "metadata": {},
   "source": [
    "## Bài tập 3. Minh họa bias-variance tradeoff với k-NN cho phân loại"
   ]
  },
  {
   "cell_type": "markdown",
   "metadata": {},
   "source": [
    "### 3.1. Chia dữ liệu\n",
    "Ta sẽ tiếp tục dùng tập dữ liệu `iris` từ thư viện `sklearn.datasets` cho các yêu cầu bên dưới.\n",
    "\n",
    "Chia dữ liệu thành 2 tập train và test với tỷ lệ 80/20. Sử dụng thêm tham số `stratify` để đảm bảo phân bố lớp (giá trị của thuộc tính $y$) trên tập train và tập test là xấp xỉ bằng nhau. In ra số lượng phần tử của tập train và tập test.\n",
    "\n",
    "Tham khảo: https://scikit-learn.org/stable/modules/generated/sklearn.model_selection.train_test_split.html"
   ]
  },
  {
   "cell_type": "code",
   "execution_count": 124,
   "metadata": {},
   "outputs": [],
   "source": [
    "\n",
    "iris = datasets.load_iris()\n",
    "X = iris.data\n",
    "y = iris.target\n",
    "from sklearn.model_selection import train_test_split,GridSearchCV\n",
    "X_train,X_test,y_train,y_test=train_test_split(X,y,random_state=2,test_size=0.2)"
   ]
  },
  {
   "cell_type": "markdown",
   "metadata": {},
   "source": [
    "### 3.2 Chuẩn hóa dữ liệu\n",
    "\n",
    "Sử dụng lớp `StandardScaler` của thư viện `sklearn.preprocessing` để chuẩn hóa dữ liệu trên tập train và tập test.\n",
    "\n",
    "Tham khảo: https://scikit-learn.org/stable/modules/generated/sklearn.preprocessing.StandardScaler.html"
   ]
  },
  {
   "cell_type": "code",
   "execution_count": 125,
   "metadata": {},
   "outputs": [],
   "source": [
    "from sklearn.preprocessing import StandardScaler\n",
    "sc=StandardScaler()\n",
    "X_train_scale,X_test_scale=sc.fit_transform(X_train),sc.fit_transform(X_test)"
   ]
  },
  {
   "cell_type": "markdown",
   "metadata": {},
   "source": [
    "### 3.3. Fit mô hình và trực quan hóa kết quả\n",
    "\n",
    "Đánh giá và vẽ biểu đồ kết quả của mô hình k-NN trên tập test với $k \\in \\{ 1, 5, 10, 15, 20, 25, 30 \\}$ dùng độ đo `Accuracy`.\n",
    "\n",
    "Tham khảo: https://scikit-learn.org/stable/modules/generated/sklearn.neighbors.KNeighborsClassifier.html"
   ]
  },
  {
   "cell_type": "code",
   "execution_count": 126,
   "metadata": {},
   "outputs": [],
   "source": [
    "from sklearn.neighbors import KNeighborsClassifier\n",
    "from sklearn.metrics import accuracy_score\n",
    "\n"
   ]
  },
  {
   "cell_type": "code",
   "execution_count": 127,
   "metadata": {},
   "outputs": [
    {
     "data": {
      "image/png": "[encoded data removed]",
      "text/plain": [
       "<Figure size 432x288 with 1 Axes>"
      ]
     },
     "metadata": {
      "needs_background": "light"
     },
     "output_type": "display_data"
    }
   ],
   "source": [
    "numNeighbors = [1, 5, 10, 15, 20, 25, 30]\n",
    "def plot_KNN_n_neighbors(numNeighbors,X_train,X_test,y_train,y_test):\n",
    "    trainMSE = []\n",
    "    testMSE = []\n",
    "\n",
    "    for k in numNeighbors:\n",
    "        reg = KNeighborsClassifier(\n",
    "            algorithm = 'auto', leaf_size = 30, metric = 'minkowski',\n",
    "   metric_params = None, n_jobs = None, n_neighbors = k, p = 2,\n",
    "   weights = 'uniform'\n",
    "        )\n",
    "        reg.fit(X_train, y_train)\n",
    "        y_predTrain = reg.predict(X_train)\n",
    "        y_predTest = reg.predict(X_test)\n",
    "        trainMSE.append(accuracy_score(y_train, y_predTrain))\n",
    "        testMSE.append(accuracy_score(y_test, y_predTest))\n",
    "\n",
    "    plt.plot(numNeighbors, trainMSE, 'ro-', numNeighbors, testMSE,'bv--')\n",
    "    plt.legend(['Training','Test'])\n",
    "    plt.xlabel('Number of neighbors')\n",
    "    plt.ylabel('accuracy')\n",
    "\n",
    "plot_KNN_n_neighbors(numNeighbors,X_train_scale,X_test_scale,y_train,y_test)"
   ]
  },
  {
   "cell_type": "markdown",
   "metadata": {},
   "source": [
    "**Nhận xét**\n",
    "\n",
    "-  Thấy với k=1 accuracy= 100% (overfitting ) khoảng cách giữa train và test lớn\n",
    "\n",
    "-  Với K từ 10 đến 30, cả accuracy giữa tập train và tập test điều thấy (underfitting)\n",
    "\n",
    "- Vậy nên: K=5 ở trường hợp này là tối ưu nhất"
   ]
  },
  {
   "cell_type": "markdown",
   "metadata": {},
   "source": [
    "## Bài tập 4. Chẩn đoán bias-variance dùng\n",
    "\n",
    "### 4.1. Vẽ learning curves\n",
    "Sử dụng tập train và test của tập dữ liệu `iris` ở bước 2.3 của bài tập 2, hãy vẽ learning curves cho mô hình k-NN (k = 5).\n",
    "\n",
    "Tham khảo: https://scikit-learn.org/stable/modules/learning_curve.html"
   ]
  },
  {
   "cell_type": "code",
   "execution_count": 128,
   "metadata": {},
   "outputs": [],
   "source": [
    "def plot_learning_curves(model,  X, y,k=5):\n",
    "#    from sklearn.metrics import mean_squared_error\n",
    "   from sklearn.metrics import accuracy_score\n",
    "   from sklearn.model_selection import train_test_split\n",
    "   plt.figure(figsize=(17,8))\n",
    "   X_train, X_val, y_train, y_val = train_test_split(X, y, test_size=0.2)\n",
    "   train_errors, val_errors = [], []\n",
    "   for m in range(k, len(X_train)):\n",
    "      model.fit(X_train[:m], y_train[:m])\n",
    "      y_train_predict = model.predict(X_train[:m])\n",
    "      y_val_predict = model.predict(X_val)\n",
    "      train_errors.append(accuracy_score(y_train_predict, y_train[:m]))\n",
    "      val_errors.append(accuracy_score(y_val_predict, y_val))\n",
    "   plt.plot(np.sqrt(train_errors), \"r-+\", linewidth=2, label=\"train\")\n",
    "   plt.plot(np.sqrt(val_errors), \"b-\", linewidth=3, label=\"test\")\n",
    "   plt.xlabel(\"data size\")\n",
    "   plt.ylabel(\"Accuracy\")\n",
    "   plt.legend()"
   ]
  },
  {
   "cell_type": "code",
   "execution_count": 129,
   "metadata": {},
   "outputs": [],
   "source": [
    "X_sc=sc.fit_transform(X);"
   ]
  },
  {
   "cell_type": "code",
   "execution_count": 133,
   "metadata": {},
   "outputs": [
    {
     "data": {
      "image/png": "[encoded data removed]",
      "text/plain": [
       "<Figure size 1224x576 with 1 Axes>"
      ]
     },
     "metadata": {
      "needs_background": "light"
     },
     "output_type": "display_data"
    }
   ],
   "source": [
    "\n",
    "# WRITE YOUR CODE HERE\n",
    "k=5\n",
    "\n",
    "classifier=KNeighborsClassifier(n_neighbors=k, p=2)\n",
    "classifier.fit(X_sc,y)\n",
    "plot_learning_curves(classifier,X_sc,y,k)\n"
   ]
  },
  {
   "cell_type": "markdown",
   "metadata": {},
   "source": [
    "### 4.2. Chuẩn đoán bias-variance dùng learning curves\n",
    "\n",
    "Dựa vào learning curves vẽ được ở câu 3.1, hãy chuẩn đoán xem mô hình có đang bị bias hay variance hay cả hai? Giải thích?"
   ]
  },
  {
   "cell_type": "markdown",
   "metadata": {},
   "source": [
    "**Trả lời**\n",
    "\n",
    "Với learning curves trên: ta thấy mô hình KNN với k=5 là low variance và low bias. Vì tại vị trí cuối của learning cuvers accuracy của train và test gần như là bằng nhau"
   ]
  }
 ],
 "metadata": {
  "kernelspec": {
   "display_name": "Python 3.9.12 ('base')",
   "language": "python",
   "name": "python3"
  },
  "language_info": {
   "codemirror_mode": {
    "name": "ipython",
    "version": 3
   },
   "file_extension": ".py",
   "mimetype": "text/x-python",
   "name": "python",
   "nbconvert_exporter": "python",
   "pygments_lexer": "ipython3",
   "version": "3.9.12"
  },
  "vscode": {
   "interpreter": {
    "hash": "ada2ca9363ebecf1d045d5b090c75d0a42518c7e7c5dcead46584c6615f84cad"
   }
  }
 },
 "nbformat": 4,
 "nbformat_minor": 4
}
