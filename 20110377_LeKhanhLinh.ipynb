{
 "cells": [
  {
   "cell_type": "markdown",
   "metadata": {},
   "source": [
    "# Lab 1 - Python's Built-in Data Types"
   ]
  },
  {
   "cell_type": "markdown",
   "metadata": {},
   "source": [
    "## Bài 1\n",
    "\n",
    "### 1a.\n",
    "- Dùng thư viện `math`, tính giá trị của $\\frac{\\pi}{4}$."
   ]
  },
  {
   "cell_type": "code",
   "execution_count": 166,
   "metadata": {},
   "outputs": [
    {
     "name": "stdout",
     "output_type": "stream",
     "text": [
      "0.7853981633974483\n"
     ]
    }
   ],
   "source": [
    "# write your code here\n",
    "import math\n",
    "print(math.pi/4)"
   ]
  },
  {
   "cell_type": "markdown",
   "metadata": {},
   "source": [
    "### 1b.\n",
    "- Dùng hàm `random.uniform()`, tạo hàm `rand()` để sinh ra ngẫu nhiên một số thực trong khoảng $-1$ đến $1$.\n",
    "- Gọi hàm `rand()` một lần. Sử dụng hàm `random.seed()` để cố định hạt giống (seed) cho hàm sinh số ngẫu nhiên."
   ]
  },
  {
   "cell_type": "code",
   "execution_count": 164,
   "metadata": {},
   "outputs": [
    {
     "data": {
      "text/plain": [
       "-0.7312715117751976"
      ]
     },
     "execution_count": 164,
     "metadata": {},
     "output_type": "execute_result"
    }
   ],
   "source": [
    "import random\n",
    "\n",
    "random.seed(1) # Don't change\n",
    "\n",
    "def rand():\n",
    "   # define your function here!\n",
    "   return random.uniform(-1,1)\n",
    "rand()"
   ]
  },
  {
   "cell_type": "markdown",
   "metadata": {},
   "source": [
    "### 1c.\n",
    "- Viết hàm `distance(x, y)` để tính khoảng cách Eucledian giữa điểm x và y. Dùng hàm của bạn để tính khoảng cách giữa $x=(0,0)$ và $y=(1,1)$."
   ]
  },
  {
   "cell_type": "code",
   "execution_count": 5,
   "metadata": {},
   "outputs": [
    {
     "data": {
      "text/plain": [
       "1.4142135623730951"
      ]
     },
     "execution_count": 5,
     "metadata": {},
     "output_type": "execute_result"
    }
   ],
   "source": [
    "def distance(x, y):\n",
    "   # define your function here!\n",
    "   return ((x[0]-y[0])**2+(x[1]-y[1])**2)**0.5\n",
    "x=[0,0]\n",
    "y=[1,1]\n",
    "distance(x,y)"
   ]
  },
  {
   "cell_type": "markdown",
   "metadata": {},
   "source": [
    "### 1d.\n",
    "- Viết hàm `in_circle(x, origin)` để kiểm tra xem một điểm trong mặt phẳng 2 chiều có nằm trong đường tròn đơn vị (bán kính 1) có tâm là gốc tọa độ hay không?\n",
    "    - Hàm trả về `True` nếu khoảng cách giữa `x` và gốc tọa độ bé hơn 1 và trả về `False` nếu ngược lại.\n",
    "    - Sử dụng hàm `distance(x, y)` đã được định nghĩa ở câu 1c.\n",
    "- Sử dụng hàm của bạn để kiểm tra điểm (1,1) có nằm trong đường tròn đơn vị có tâm là (0,0) hay không?"
   ]
  },
  {
   "cell_type": "code",
   "execution_count": 9,
   "metadata": {},
   "outputs": [],
   "source": [
    "def in_circle(x, origin = [0,0]):\n",
    "   dis=distance(x,origin)\n",
    "   if dis<1:\n",
    "      return True\n",
    "   else:\n",
    "      return False"
   ]
  },
  {
   "cell_type": "code",
   "execution_count": 10,
   "metadata": {},
   "outputs": [
    {
     "data": {
      "text/plain": [
       "False"
      ]
     },
     "execution_count": 10,
     "metadata": {},
     "output_type": "execute_result"
    }
   ],
   "source": [
    "x = (0, 0)\n",
    "y = (1, 1)\n",
    "in_circle(x, y)"
   ]
  },
  {
   "cell_type": "markdown",
   "metadata": {},
   "source": [
    "### 1e.\n",
    "\n",
    "- Tạo list tên `inside` gồm `R=10000` giá trị boolean như sau:\n",
    "    - Dùng hàm `rand` ở câu 1b để sinh `R` điểm một cách ngẫu nhiên.\n",
    "    - Dùng hàm `in_circle` kiểm tra liệu một điểm cho trước có nằm trong đường tròn đơn vị có tâm là `(0,0)` hay không.\n",
    "- Tìm tỷ lệ các điểm thuộc đường tròn bằng cách tính tổng các giá trị `True` trong `inside` list và chia cho `R`.\n",
    "- In ra kết quả của bạn. Tỷ lệ này là một ước lượng cho giá trị của $\\frac{\\pi}{4}$."
   ]
  },
  {
   "cell_type": "code",
   "execution_count": null,
   "metadata": {},
   "outputs": [],
   "source": [
    "random.seed(1) \n",
    "\n",
    "inside=[]\n",
    "\n"
   ]
  },
  {
   "cell_type": "markdown",
   "metadata": {},
   "source": [
    "## 1f.\n",
    "\n",
    "- Tìm hiệu giữa giá trị ước lượng được ở câu 1e và $\\frac{\\pi}{4}$."
   ]
  },
  {
   "cell_type": "code",
   "execution_count": 169,
   "metadata": {},
   "outputs": [
    {
     "name": "stdout",
     "output_type": "stream",
     "text": [
      "1.9328836650615968\n"
     ]
    }
   ],
   "source": [
    "# write your code here!\n",
    "print(math.e-(math.pi/4))\n"
   ]
  },
  {
   "cell_type": "markdown",
   "metadata": {},
   "source": [
    "## Bài 2.\n",
    "\n",
    "### 2a.\n",
    "- Import thư viện `string`,\n",
    "\n",
    "- Tạo biến `alphabet` tất cả chữ cái thường và in hoa trong bảng chữ cái tiếng Anh dùng thuộc tính `ascii_letters` (data attribute) của thư viện `string`."
   ]
  },
  {
   "cell_type": "code",
   "execution_count": 16,
   "metadata": {},
   "outputs": [
    {
     "data": {
      "text/plain": [
       "'abcdefghijklmnopqrstuvwxyzABCDEFGHIJKLMNOPQRSTUVWXYZ'"
      ]
     },
     "execution_count": 16,
     "metadata": {},
     "output_type": "execute_result"
    }
   ],
   "source": [
    "# write your code hear\n",
    "import string\n",
    "\n",
    "alphabet = string.ascii_letters\n",
    "alphabet"
   ]
  },
  {
   "cell_type": "markdown",
   "metadata": {},
   "source": [
    "### 2b.\n",
    "- Dùng biến `alphabet` đã tạo ở trên.\n",
    "\n",
    "- Cho chuỗi `text`, tạo một dictionary `count_letters` với các key là các chữ cái như trong biến `alphabet` và các value tương ứng là tần số (số lần xuất hiện) của chúng trong chuỗi `text`. Chú ý: chữ thường và chữ hoa được tính riêng."
   ]
  },
  {
   "cell_type": "code",
   "execution_count": 18,
   "metadata": {},
   "outputs": [
    {
     "name": "stdout",
     "output_type": "stream",
     "text": [
      "{'a': 50, 'b': 20, 'c': 16, 'd': 16, 'e': 90, 'f': 11, 'g': 11, 'h': 31, 'i': 50, 'j': 0, 'k': 2, 'l': 33, 'm': 16, 'n': 40, 'o': 43, 'p': 20, 'q': 0, 'r': 32, 's': 43, 't': 76, 'u': 20, 'v': 5, 'w': 4, 'x': 6, 'y': 17, 'z': 0, 'A': 3, 'B': 1, 'C': 1, 'D': 1, 'E': 2, 'F': 1, 'G': 0, 'H': 0, 'I': 3, 'J': 0, 'K': 0, 'L': 0, 'M': 0, 'N': 2, 'O': 0, 'P': 2, 'Q': 0, 'R': 1, 'S': 3, 'T': 3, 'U': 1, 'V': 0, 'W': 0, 'X': 0, 'Y': 0, 'Z': 1}\n"
     ]
    }
   ],
   "source": [
    "text = \"\"\"\n",
    "The Zen of Python, by Tim Peters\n",
    "\n",
    "Beautiful is better than ugly.\n",
    "Explicit is better than implicit.\n",
    "Simple is better than complex.\n",
    "Complex is better than complicated.\n",
    "Flat is better than nested.\n",
    "Sparse is better than dense.\n",
    "Readability counts.\n",
    "Special cases aren't special enough to break the rules.\n",
    "Although practicality beats purity.\n",
    "Errors should never pass silently.\n",
    "Unless explicitly silenced.\n",
    "In the face of ambiguity, refuse the temptation to guess.\n",
    "There should be one-- and preferably only one --obvious way to do it.\n",
    "Although that way may not be obvious at first unless you're Dutch.\n",
    "Now is better than never.\n",
    "Although never is often better than *right* now.\n",
    "If the implementation is hard to explain, it's a bad idea.\n",
    "If the implementation is easy to explain, it may be a good idea.\n",
    "Namespaces are one honking great idea -- let's do more of those!\n",
    "\"\"\"\n",
    "count_letters = {}\n",
    "# write your code here!\n",
    "for a in alphabet:\n",
    "    count_letters[a]=text.count(a)\n",
    "print(count_letters)\n"
   ]
  },
  {
   "cell_type": "markdown",
   "metadata": {},
   "source": [
    "### 2c.\n",
    "- Viết lại mã ở câu 2b bằng cách định nghĩa hàm `counter` có tham số là chuỗi `text` và trả về một dictionary với các key là các chữ cái và value là các tần số xuất hiện tương ứng.\n",
    "\n",
    "- Gọi hàm `counter(text)`."
   ]
  },
  {
   "cell_type": "code",
   "execution_count": 19,
   "metadata": {},
   "outputs": [],
   "source": [
    "def counter(text):\n",
    "    count_letters = {}\n",
    "# write your code here!\n",
    "    for a in alphabet:\n",
    "        count_letters[a]=text.count(a)\n",
    "    return count_letters"
   ]
  },
  {
   "cell_type": "code",
   "execution_count": 21,
   "metadata": {},
   "outputs": [
    {
     "name": "stdout",
     "output_type": "stream",
     "text": [
      "{'a': 50, 'b': 20, 'c': 16, 'd': 16, 'e': 90, 'f': 11, 'g': 11, 'h': 31, 'i': 50, 'j': 0, 'k': 2, 'l': 33, 'm': 16, 'n': 40, 'o': 43, 'p': 20, 'q': 0, 'r': 32, 's': 43, 't': 76, 'u': 20, 'v': 5, 'w': 4, 'x': 6, 'y': 17, 'z': 0, 'A': 3, 'B': 1, 'C': 1, 'D': 1, 'E': 2, 'F': 1, 'G': 0, 'H': 0, 'I': 3, 'J': 0, 'K': 0, 'L': 0, 'M': 0, 'N': 2, 'O': 0, 'P': 2, 'Q': 0, 'R': 1, 'S': 3, 'T': 3, 'U': 1, 'V': 0, 'W': 0, 'X': 0, 'Y': 0, 'Z': 1}\n"
     ]
    }
   ],
   "source": [
    "count_letters = counter(text)\n",
    "print(count_letters)"
   ]
  },
  {
   "cell_type": "markdown",
   "metadata": {},
   "source": [
    "### 2d.\n",
    "Sử dụng dictionary `count_letters` ở câu 2c để tìm chữ cái xuất hiện thường xuyên nhất."
   ]
  },
  {
   "cell_type": "code",
   "execution_count": 70,
   "metadata": {},
   "outputs": [
    {
     "name": "stdout",
     "output_type": "stream",
     "text": [
      "e:90\n"
     ]
    }
   ],
   "source": [
    "word_max_frequency=sorted(count_letters.items(), key=lambda x: x[1], reverse=True)[0] # key=lambda x:x[1] is comparision , reverse=True is sorted in descending order\n",
    "print(f\"{word_max_frequency[0]}:{word_max_frequency[1]}\")\n"
   ]
  },
  {
   "cell_type": "markdown",
   "metadata": {},
   "source": [
    "## Bài 3.\n",
    "\n",
    "- Viết hàm `check_strong_password(text)` Kiểm tra chuỗi `text` có phải là một password mạnh hay không. Hàm trả về `True` nếu chuỗi `text` là một password mạnh và trả về `False` nếu ngược lại. Một password mạnh phải thỏa mãn tất cả các điều kiên sau:\n",
    "\n",
    "\t- Chiều dài >= 8 ký tự\n",
    "\n",
    "\t- Có chữ cái thường\n",
    "\n",
    "\t- Có chữ cái hoa\n",
    "\n",
    "\t- Có ký tự số\n",
    "\n",
    "\t- Có ký tự đặt biệt (không phải chữ cái và số)"
   ]
  },
  {
   "cell_type": "code",
   "execution_count": 156,
   "metadata": {},
   "outputs": [],
   "source": [
    "def check_strong_password(text): \n",
    "    # check lower and supper\n",
    "    if text.islower()|text.isupper()==True:\n",
    "        return False\n",
    "    # check number\n",
    "    if len([c for c in text if c.isnumeric()])<=0:\n",
    "        return False\n",
    "    if len([c for c in text if c.isalnum()==0])<=0:\n",
    "        return False\n",
    "    return True\n",
    "    \n",
    "        "
   ]
  },
  {
   "cell_type": "code",
   "execution_count": 168,
   "metadata": {},
   "outputs": [
    {
     "name": "stdout",
     "output_type": "stream",
     "text": [
      "True\n"
     ]
    }
   ],
   "source": [
    "text=\"PasswordStrong 9@\"\n",
    "print(check_strong_password(text))"
   ]
  },
  {
   "cell_type": "markdown",
   "metadata": {},
   "source": [
    "## Bài 4.\n",
    "\n",
    "- Cho list `m` chứa các mệnh giá tiền (`m[1] > a[2] > ... > m[k] = 1`) và `x` là số tiền cần đổi. Hãy viết hàm `change_money(m, x)` để đổi số tiền `x` với danh sách mệnh giá tiền `m` đã cho. Hàm trả về một list chứa số tờ tiền ứng với mỗi mệnh giá. Hãy sử dụng nguyên lý tham lam (greedy) với bài toán này. Tức là, ưu tiên dùng mệnh giá tiền cao nhất trước. Khi không thể dùng mệnh giá tiền cao nhất thì mới chuyển sang dùng các mệnh giá tiền thấp hơn."
   ]
  },
  {
   "cell_type": "code",
   "execution_count": null,
   "metadata": {},
   "outputs": [],
   "source": []
  },
  {
   "cell_type": "code",
   "execution_count": 34,
   "metadata": {},
   "outputs": [
    {
     "data": {
      "text/plain": [
       "{500: 519, 100: 1, 20: 2}"
      ]
     },
     "execution_count": 34,
     "metadata": {},
     "output_type": "execute_result"
    }
   ],
   "source": [
    "m = [500, 200, 100, 50, 20, 10, 5, 2, 1]\n",
    "x = 259640\n",
    "def change_money(m, x):\n",
    "    dict_change={}\n",
    "    count=0\n",
    "    index=0\n",
    "    while True:\n",
    "        if x<=0:\n",
    "            break\n",
    "        if x<m[index]:\n",
    "            count=0\n",
    "            index=index+1\n",
    "        else:\n",
    "            x=x-m[index]\n",
    "            count+=1\n",
    "        dict_change[m[index]]=count\n",
    "\n",
    "    result_dict={}\n",
    "    for key,value in dict_change.items():\n",
    "        if value>0:\n",
    "            result_dict[key]=value\n",
    "    return result_dict\n",
    "\n",
    "result_dict = change_money(m, x)\n",
    "result_dict\n",
    "# change_money(m, n)"
   ]
  },
  {
   "cell_type": "markdown",
   "metadata": {},
   "source": [
    "## Bài 5.\n",
    "\n",
    "- Cho list `m` chứa các mệnh giá tiền (`m[1] > a[2] > ... > m[k] = 1`), list `n` chứa số tờ tiền ứng với mỗi mệnh giá (`b[i] >= 0`, với mọi `0 <= i <= k`), và `x` là số tiền cần đổi. Hãy viết hàm `change_money(m, n, x)` để đổi số tiền `x` với danh sách mệnh giá tiền `m` và danh sách số tờ tiền `n` đã cho. Hàm trả về một list chứa số tờ tiền ứng với mỗi mệnh giá. Tiếp tục sử dụng nguyên lý tham lam (greedy) với bài toán này. Tức là, ưu tiên dùng mệnh giá tiền cao nhất trước. Khi không thể dùng các mệnh giá tiền cao nhất thì mới chuyển sang dùng các mệnh giá tiền thấp hơn. Theo nguyên tắc này, không chắc sẽ đổi được tiền trong mọi trường. Nếu không đổi được theo nguyên tắc này thì trả về danh sách ứng với số tiền lớn nhất (<= `x`) có thể đổi được."
   ]
  },
  {
   "cell_type": "code",
   "execution_count": 110,
   "metadata": {},
   "outputs": [],
   "source": [
    "def change_money(m, n, x):\n",
    "    # Define your function here!\n",
    "    dict_change={}\n",
    "    count=0\n",
    "    index=0\n",
    "    while True:\n",
    "        if x<=0 :\n",
    "            break\n",
    "        if index==len(n):\n",
    "                break\n",
    "        if x<m[index]:\n",
    "            count=0\n",
    "            index=index+1\n",
    "            \n",
    "        else:\n",
    "            x=x-m[index]\n",
    "            count+=1\n",
    "        if n[index]!=0:\n",
    "            dict_change[m[index]]=count\n",
    "        \n",
    "        if count>=n[index]:\n",
    "            count=0\n",
    "            index=index+1\n",
    "            if index==len(n):\n",
    "                break\n",
    "            if n[index]==0 :\n",
    "                index+=1\n",
    "                \n",
    "            \n",
    "            \n",
    "        \n",
    "            \n",
    "    result_dict={}\n",
    "    for key,value in dict_change.items():\n",
    "        if value>0:\n",
    "            result_dict[key]=value\n",
    "    return result_dict"
   ]
  },
  {
   "cell_type": "code",
   "execution_count": 111,
   "metadata": {},
   "outputs": [
    {
     "data": {
      "text/plain": [
       "{500: 20, 200: 69, 100: 1, 50: 1, 20: 1, 10: 1}"
      ]
     },
     "execution_count": 111,
     "metadata": {},
     "output_type": "execute_result"
    }
   ],
   "source": [
    "m = [500, 200, 100, 50, 20, 10, 5, 2, 1]\n",
    "n = [20, 100, 50, 100, 200, 100, 0, 0, 0]\n",
    "x = 23980\n",
    "change_money(m, n, x)"
   ]
  },
  {
   "cell_type": "code",
   "execution_count": 126,
   "metadata": {},
   "outputs": [
    {
     "data": {
      "text/plain": [
       "{500: 5, 10: 2278}"
      ]
     },
     "execution_count": 126,
     "metadata": {},
     "output_type": "execute_result"
    }
   ],
   "source": [
    "m = [500, 200, 100, 50, 20, 10, 5, 2, 1]\n",
    "n = [5, 0, 0, 0, 0, 10000, 0, 0, 0]\n",
    "x = 25401\n",
    "change_money(m, n, x)"
   ]
  },
  {
   "cell_type": "markdown",
   "metadata": {},
   "source": [
    "## Bài 6.\n",
    "\n",
    "- Viết một hàm có tên `union_sets` nhận input là một tập hợp của tập hợp các số nguyên (set of set) và trả về một tập hợp các số nguyên là hợp của tất cả các tập hợp.\n",
    "\n",
    "- Ví dụ: **input**: `[{1, 3}, {2, 3, 4, 5}, {3, 5, 6, 7}, {42}]` -> **output**: `{1, 2, 3, 4, 5, 6, 7, 42}`"
   ]
  },
  {
   "cell_type": "code",
   "execution_count": 150,
   "metadata": {},
   "outputs": [],
   "source": [
    "def union_sets(sets):\n",
    "    my_set={None}\n",
    "    for  value in sets:\n",
    "        my_set=my_set.union(value)\n",
    "    my_set.remove(None)\n",
    "    return my_set\n",
    "    \n",
    "    "
   ]
  },
  {
   "cell_type": "code",
   "execution_count": 151,
   "metadata": {},
   "outputs": [
    {
     "data": {
      "text/plain": [
       "{1, 2, 3, 4, 5, 6, 7, 42}"
      ]
     },
     "execution_count": 151,
     "metadata": {},
     "output_type": "execute_result"
    }
   ],
   "source": [
    "# Test your function here!\n",
    "sets = [{1, 3}, {2, 3, 4, 5}, {3, 5, 6, 7}, {42}]\n",
    "union_sets(sets)"
   ]
  },
  {
   "cell_type": "markdown",
   "metadata": {},
   "source": [
    "## Bài 7.\n",
    "\n",
    "- Viết một hàm có tên `is_happy_number` trả về liệu một số nguyên đã cho có phải là **số hạnh phúc** hay không. Một số nguyên được gọi là **số hạnh phúc** nếu một cách liên tục, tổng các bình phương các chữ số của nó cuối cùng dẫn đến số 1. Ví dụ: \n",
    "\n",
    "- 7 là số hạnh phúc vì:\n",
    "\n",
    "    - $7^2 = 49$\n",
    "    - $4^2 + 9^2 = 97$\n",
    "    - $9^2 + 7^2 = 130$\n",
    "    - $1^2 + 3^2 + 0^2 = 10$\n",
    "    - $1^2 + 0^2 = 1$\n",
    "\n",
    "- 4 không phải là số hạnh phúc vì:\n",
    "\n",
    "    - $4^2 = 16$\n",
    "    - $1^2 + 6^2 = 37$\n",
    "    - $3^2 + 7^2 = 58$\n",
    "    - $5^2 + 8^2 = 89$\n",
    "    - $8^2 + 9^2 = 145$\n",
    "    - $1^2 + 4^2 + 5^2 = 42$\n",
    "    - $4^2 + 2^2 = 20$\n",
    "    - $2^2 + 0^2 = 4$\n",
    "    - $\\cdots$\n",
    "\n",
    "- Test cases: trong các số 1->60, chỉ có 1, 7, 10, 13, 19, 23, 28, 31, 32, 44, 49 là các số hạnh phúc."
   ]
  },
  {
   "cell_type": "code",
   "execution_count": 159,
   "metadata": {},
   "outputs": [],
   "source": [
    "def numSquareSum(n):\n",
    "    squareSum = 0;\n",
    "    while(n):\n",
    "        squareSum += (n % 10) * (n % 10);\n",
    "        n = int(n / 10);\n",
    "    return squareSum\n",
    "def is_happy_number(n):\n",
    " \n",
    "    # initialize slow\n",
    "    # and fast by n\n",
    "    slow = n;\n",
    "    fast = n;\n",
    "    while(True):\n",
    "         \n",
    "        # move slow number\n",
    "        # by one iteration\n",
    "        slow = numSquareSum(slow);\n",
    " \n",
    "        # move fast number\n",
    "        # by two iteration\n",
    "        fast = numSquareSum(numSquareSum(fast));\n",
    "        if(slow != fast):\n",
    "            continue;\n",
    "        else:\n",
    "            break;\n",
    " \n",
    "    # if both number meet at 1,\n",
    "    # then return true\n",
    "    return (slow == 1);"
   ]
  },
  {
   "cell_type": "code",
   "execution_count": 160,
   "metadata": {},
   "outputs": [
    {
     "data": {
      "text/plain": [
       "True"
      ]
     },
     "execution_count": 160,
     "metadata": {},
     "output_type": "execute_result"
    }
   ],
   "source": [
    "# Test your function here!\n",
    "is_happy_number(7)"
   ]
  },
  {
   "cell_type": "code",
   "execution_count": 161,
   "metadata": {},
   "outputs": [
    {
     "data": {
      "text/plain": [
       "False"
      ]
     },
     "execution_count": 161,
     "metadata": {},
     "output_type": "execute_result"
    }
   ],
   "source": [
    "is_happy_number(4)"
   ]
  }
 ],
 "metadata": {
  "kernelspec": {
   "display_name": "Python 3.9.12 ('base')",
   "language": "python",
   "name": "python3"
  },
  "language_info": {
   "codemirror_mode": {
    "name": "ipython",
    "version": 3
   },
   "file_extension": ".py",
   "mimetype": "text/x-python",
   "name": "python",
   "nbconvert_exporter": "python",
   "pygments_lexer": "ipython3",
   "version": "3.9.12"
  },
  "metadata": {
   "interpreter": {
    "hash": "e404b59586357c814bc0d3940e75d6763c00a48753b225b81f7716971b8e1741"
   }
  },
  "vscode": {
   "interpreter": {
    "hash": "ada2ca9363ebecf1d045d5b090c75d0a42518c7e7c5dcead46584c6615f84cad"
   }
  }
 },
 "nbformat": 4,
 "nbformat_minor": 4
}
