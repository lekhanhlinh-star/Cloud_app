{
 "cells": [
  {
   "cell_type": "markdown",
   "metadata": {},
   "source": [
    "# Lab 4 - Classification\n",
    "\n",
    "\n",
    "- Your name: Lê Khánh linh\n",
    "\n",
    "- Your student code: 20110377"
   ]
  },
  {
   "cell_type": "code",
   "execution_count": 1,
   "metadata": {},
   "outputs": [
    {
     "data": {
      "text/plain": [
       "2"
      ]
     },
     "execution_count": 1,
     "metadata": {},
     "output_type": "execute_result"
    }
   ],
   "source": [
    "2%100"
   ]
  },
  {
   "cell_type": "markdown",
   "metadata": {},
   "source": [
    "## 1. Tạo một Simple Logistic Regression với thư viện scikit-learn\n",
    "\n",
    "Ở phần này, bạn sẽ thực hiện một số công việc sau:\n",
    "\n",
    "- Đọc và load dữ liệu từ file với hàm `pd.read_csv()` của thư viện `pandas`\n",
    "- Chia dữ liệu thành train set và test set dùng hàm `train_test_split()` từ thư viện `sklearn`\n",
    "- Dùng hàm `LogisticRegression` từ thư viện `sklearn` để tạo mô hình hồi quy tuyến tính \n",
    "- Fit mô hình trên train set với hàm `fit()`\n",
    "- Predict trên test set dùng mô hình đã huấn luyện được\n",
    "- Tính Confusion Matrix (CM) và các độ đo Accuraccy, F1-score dùng hàm `confusion_matrix()`, `accuracy()` và  `f1_score()` từ thư viện `sklearn`\n",
    "- Vẽ biểu đồ các điểm dữ liệu cùng với các dự đoán của mô hình dùng thư viện `matplotlib`\n",
    "\n",
    "Bên dưới là các đường link để bạn tham khảo thêm về các hàm đã đề cập ở trên.\n",
    "\n",
    "- [pd.read_csv(filename)](https://pandas.pydata.org/pandas-docs/stable/reference/api/pandas.read_csv.html): Trả về một pandas dataframe chứa từ file dữ liệu\n",
    "- [sklearn.train_test_split()](https://scikit-learn.org/stable/modules/generated/sklearn.model_selection.train_test_split.html): Tách dữ liệu (ngẫu nhiên) thành tập train và test \n",
    "- [sklearn.LinearRegression()](https://scikit-learn.org/stable/modules/generated/sklearn.linear_model.LinearRegression.html): Khởi tạo một linear model\n",
    "- [LogisticRegression.fit()](https://scikit-learn.org/stable/modules/generated/sklearn.linear_model.LogisticRegression.html#sklearn.linear_model.LogisticRegression.fit): Fit một linear model trên train data\n",
    "- [LogisticRegression.predict()](https://scikit-learn.org/stable/modules/generated/sklearn.linear_model.LogisticRegression.html#sklearn.linear_model.LogisticRegression.predict): Predict dùng linear model đã tạo\n",
    "- [confusion_matrix()](https://scikit-learn.org/stable/modules/generated/sklearn.metrics.confusion_matrix.html#sklearn.metrics.confusion_matrix): Tính confution_matrix (CM)\n",
    "- [f1_score()](https://scikit-learn.org/stable/modules/generated/sklearn.metrics.f1_score.html#sklearn.metrics.f1_score): Tính F1-score\n",
    "- [plt.plot()](https://matplotlib.org/stable/api/_as_gen/matplotlib.pyplot.plot.html): Vẽ biểu đồ"
   ]
  },
  {
   "cell_type": "markdown",
   "metadata": {},
   "source": [
    "### 1.1. Tìm hiểu tổng quan về dữ liệu\n",
    "\n",
    "Phần này sẽ dùng tập dữ liệu `HeartDisease.csv` để minh họa. Chi tiết về tập dữ liệu có thể được tham khảo ở https://archive.ics.uci.edu/ml/datasets/heart+Disease.\n",
    "\n",
    "#### 1.1.1. Load dữ liệu"
   ]
  },
  {
   "cell_type": "code",
   "execution_count": 2,
   "metadata": {},
   "outputs": [],
   "source": [
    "import pandas as pd\n",
    "import warnings\n",
    "warnings.filterwarnings('ignore')\n",
    "# Đọc dữ liệu từ \"HeartDisease.csv\"\n",
    "heart = pd.read_csv('./data/HeartDisease.csv')"
   ]
  },
  {
   "cell_type": "markdown",
   "metadata": {},
   "source": [
    "#### 1.1.2. Khám phá tổng quan về dữ liệu"
   ]
  },
  {
   "cell_type": "code",
   "execution_count": 3,
   "metadata": {},
   "outputs": [
    {
     "data": {
      "text/html": [
       "<div>\n",
       "<style scoped>\n",
       "    .dataframe tbody tr th:only-of-type {\n",
       "        vertical-align: middle;\n",
       "    }\n",
       "\n",
       "    .dataframe tbody tr th {\n",
       "        vertical-align: top;\n",
       "    }\n",
       "\n",
       "    .dataframe thead th {\n",
       "        text-align: right;\n",
       "    }\n",
       "</style>\n",
       "<table border=\"1\" class=\"dataframe\">\n",
       "  <thead>\n",
       "    <tr style=\"text-align: right;\">\n",
       "      <th></th>\n",
       "      <th>Unnamed: 0</th>\n",
       "      <th>Age</th>\n",
       "      <th>Sex</th>\n",
       "      <th>ChestPain</th>\n",
       "      <th>RestBP</th>\n",
       "      <th>Chol</th>\n",
       "      <th>Fbs</th>\n",
       "      <th>RestECG</th>\n",
       "      <th>MaxHR</th>\n",
       "      <th>ExAng</th>\n",
       "      <th>Oldpeak</th>\n",
       "      <th>Slope</th>\n",
       "      <th>Ca</th>\n",
       "      <th>Thal</th>\n",
       "      <th>AHD</th>\n",
       "    </tr>\n",
       "  </thead>\n",
       "  <tbody>\n",
       "    <tr>\n",
       "      <th>0</th>\n",
       "      <td>1</td>\n",
       "      <td>63</td>\n",
       "      <td>1</td>\n",
       "      <td>typical</td>\n",
       "      <td>145</td>\n",
       "      <td>233</td>\n",
       "      <td>1</td>\n",
       "      <td>2</td>\n",
       "      <td>150</td>\n",
       "      <td>0</td>\n",
       "      <td>2.3</td>\n",
       "      <td>3</td>\n",
       "      <td>0.0</td>\n",
       "      <td>fixed</td>\n",
       "      <td>No</td>\n",
       "    </tr>\n",
       "    <tr>\n",
       "      <th>1</th>\n",
       "      <td>2</td>\n",
       "      <td>67</td>\n",
       "      <td>1</td>\n",
       "      <td>asymptomatic</td>\n",
       "      <td>160</td>\n",
       "      <td>286</td>\n",
       "      <td>0</td>\n",
       "      <td>2</td>\n",
       "      <td>108</td>\n",
       "      <td>1</td>\n",
       "      <td>1.5</td>\n",
       "      <td>2</td>\n",
       "      <td>3.0</td>\n",
       "      <td>normal</td>\n",
       "      <td>Yes</td>\n",
       "    </tr>\n",
       "    <tr>\n",
       "      <th>2</th>\n",
       "      <td>3</td>\n",
       "      <td>67</td>\n",
       "      <td>1</td>\n",
       "      <td>asymptomatic</td>\n",
       "      <td>120</td>\n",
       "      <td>229</td>\n",
       "      <td>0</td>\n",
       "      <td>2</td>\n",
       "      <td>129</td>\n",
       "      <td>1</td>\n",
       "      <td>2.6</td>\n",
       "      <td>2</td>\n",
       "      <td>2.0</td>\n",
       "      <td>reversable</td>\n",
       "      <td>Yes</td>\n",
       "    </tr>\n",
       "    <tr>\n",
       "      <th>3</th>\n",
       "      <td>4</td>\n",
       "      <td>37</td>\n",
       "      <td>1</td>\n",
       "      <td>nonanginal</td>\n",
       "      <td>130</td>\n",
       "      <td>250</td>\n",
       "      <td>0</td>\n",
       "      <td>0</td>\n",
       "      <td>187</td>\n",
       "      <td>0</td>\n",
       "      <td>3.5</td>\n",
       "      <td>3</td>\n",
       "      <td>0.0</td>\n",
       "      <td>normal</td>\n",
       "      <td>No</td>\n",
       "    </tr>\n",
       "    <tr>\n",
       "      <th>4</th>\n",
       "      <td>5</td>\n",
       "      <td>41</td>\n",
       "      <td>0</td>\n",
       "      <td>nontypical</td>\n",
       "      <td>130</td>\n",
       "      <td>204</td>\n",
       "      <td>0</td>\n",
       "      <td>2</td>\n",
       "      <td>172</td>\n",
       "      <td>0</td>\n",
       "      <td>1.4</td>\n",
       "      <td>1</td>\n",
       "      <td>0.0</td>\n",
       "      <td>normal</td>\n",
       "      <td>No</td>\n",
       "    </tr>\n",
       "  </tbody>\n",
       "</table>\n",
       "</div>"
      ],
      "text/plain": [
       "   Unnamed: 0  Age  Sex     ChestPain  RestBP  Chol  Fbs  RestECG  MaxHR  \\\n",
       "0           1   63    1       typical     145   233    1        2    150   \n",
       "1           2   67    1  asymptomatic     160   286    0        2    108   \n",
       "2           3   67    1  asymptomatic     120   229    0        2    129   \n",
       "3           4   37    1    nonanginal     130   250    0        0    187   \n",
       "4           5   41    0    nontypical     130   204    0        2    172   \n",
       "\n",
       "   ExAng  Oldpeak  Slope   Ca        Thal  AHD  \n",
       "0      0      2.3      3  0.0       fixed   No  \n",
       "1      1      1.5      2  3.0      normal  Yes  \n",
       "2      1      2.6      2  2.0  reversable  Yes  \n",
       "3      0      3.5      3  0.0      normal   No  \n",
       "4      0      1.4      1  0.0      normal   No  "
      ]
     },
     "execution_count": 3,
     "metadata": {},
     "output_type": "execute_result"
    }
   ],
   "source": [
    "heart.head()"
   ]
  },
  {
   "cell_type": "code",
   "execution_count": 4,
   "metadata": {},
   "outputs": [],
   "source": [
    "# Gán biến `AHD`, là `y`\n",
    "y = heart[['AHD']].values\n",
    "\n",
    "# Gán biến `Age` là `X`\n",
    "X = heart[['Age']].values"
   ]
  },
  {
   "cell_type": "code",
   "execution_count": 5,
   "metadata": {},
   "outputs": [],
   "source": [
    "# Chuyển biến `y` sang dạng nhị phân (`AHD` == 'Yes' ứng với 1 và AHD'] == 'No' ứng với 0)\n",
    "y = 1 * (heart['AHD'] == 'Yes').values\n",
    "# y=y.reshape(-1,1)"
   ]
  },
  {
   "cell_type": "markdown",
   "metadata": {},
   "source": [
    "### 1.2. Chia dữ liệu\n",
    "\n",
    "Ta sẽ chia dữ liệu làm 2 tập train và test với tỷ lệ 80/20."
   ]
  },
  {
   "cell_type": "code",
   "execution_count": 6,
   "metadata": {},
   "outputs": [
    {
     "name": "stdout",
     "output_type": "stream",
     "text": [
      "Labels counts in y: 303\n",
      "Labels counts in y_train: 242\n",
      "Labels counts in y_test: 61\n"
     ]
    }
   ],
   "source": [
    "from sklearn.model_selection import train_test_split\n",
    "\n",
    "X_train, X_test, y_train, y_test = train_test_split(\n",
    "X, y, test_size =0.2, random_state = 1)\n",
    "\n",
    "print('Labels counts in y:', len(y))\n",
    "print('Labels counts in y_train:', len(y_train))\n",
    "print('Labels counts in y_test:', len(y_test))"
   ]
  },
  {
   "cell_type": "markdown",
   "metadata": {},
   "source": [
    "### 1.3. Fit mô hình"
   ]
  },
  {
   "cell_type": "code",
   "execution_count": 7,
   "metadata": {},
   "outputs": [
    {
     "data": {
      "text/plain": [
       "array([0, 1, 1, 1, 1, 0, 0, 1, 1, 1, 1, 1, 0, 1, 0, 0, 0, 0, 0, 0, 0, 0,\n",
       "       1, 0, 0, 0, 0, 0, 1, 0, 1, 0, 0, 0, 1, 1, 0, 0, 1, 0, 0, 0, 0, 0,\n",
       "       1, 0, 0, 0, 0, 0, 0, 0, 1, 0, 0, 0, 1, 0, 0, 0, 1])"
      ]
     },
     "execution_count": 7,
     "metadata": {},
     "output_type": "execute_result"
    }
   ],
   "source": [
    "from sklearn.linear_model import LogisticRegression\n",
    "from sklearn.model_selection import train_test_split\n",
    "\n",
    "# Tạo mô hình Logistic Regression dùng sklearn không dùng penalty\n",
    "logit = LogisticRegression(penalty = 'none' ,max_iter = 1e5, random_state = 1)\n",
    "\n",
    "# Fit mô hình với train data\n",
    "logit.fit(X_train,y_train )\n",
    "\n",
    "# Predict trên test data dùng mô hình đã train\n",
    "y_pred_test =logit.predict(X_test)\n",
    "y_pred_test"
   ]
  },
  {
   "cell_type": "markdown",
   "metadata": {},
   "source": [
    "### 1.4. Đánh giá mô hình\n",
    "\n",
    "Ta sẽ đánh giá mô hình dùng confusion matrix (CM) và các độ đo accuracy, f1_score, f1_micro, f1_macro."
   ]
  },
  {
   "cell_type": "code",
   "execution_count": 8,
   "metadata": {},
   "outputs": [
    {
     "name": "stdout",
     "output_type": "stream",
     "text": [
      "The test confusion matrix is:\n",
      " [[26  8]\n",
      " [15 12]]\n",
      "The test accuracy is: 0.6229508196721312\n",
      "The test f1_score is: [0.69333333 0.5106383 ]\n",
      "The test f1_micro is: 0.6229508196721312\n",
      "The test f1_macro is: 0.6019858156028368\n"
     ]
    }
   ],
   "source": [
    "import sklearn.metrics as metrics\n",
    "\n",
    "cm_test = metrics.confusion_matrix(y_true =y_test, y_pred = y_pred_test)\n",
    "print(f'The test confusion matrix is:\\n {cm_test}')\n",
    "\n",
    "accuracy = metrics.accuracy_score(y_true =y_test, y_pred = y_pred_test)\n",
    "print(f'The test accuracy is: {accuracy}')\n",
    "\n",
    "f1_score = metrics.f1_score(y_true = y_test, y_pred =y_pred_test, average =None)\n",
    "print(f'The test f1_score is: {f1_score}')\n",
    "\n",
    "f1_micro = metrics.f1_score(y_true = y_test, y_pred = y_pred_test,average='micro')\n",
    "print(f'The test f1_micro is: {f1_micro}')\n",
    "\n",
    "f1_macro = metrics.f1_score(y_true = y_test, y_pred = y_pred_test,average='macro')\n",
    "print(f'The test f1_macro is: {f1_macro}')"
   ]
  },
  {
   "cell_type": "code",
   "execution_count": 9,
   "metadata": {},
   "outputs": [
    {
     "data": {
      "text/plain": [
       "(242, 1)"
      ]
     },
     "execution_count": 9,
     "metadata": {},
     "output_type": "execute_result"
    }
   ],
   "source": [
    "X_train.shape"
   ]
  },
  {
   "cell_type": "markdown",
   "metadata": {},
   "source": [
    "### 1.5. Trực quan hóa kết quả"
   ]
  },
  {
   "cell_type": "code",
   "execution_count": 10,
   "metadata": {},
   "outputs": [],
   "source": [
    "import numpy as np\n",
    "import matplotlib.pyplot as plt\n",
    "\n",
    "# x = np.linspace(np.min(X) - 10, np.max(X) + 10, 242)\n",
    "# x=x.reshape(-1,1)\n",
    "\n",
    "# yhat_class_logit =logit.predict(x)\n",
    "# yhat_prob_logit =logit.predict_proba(x)[:, 1]\n",
    "\n",
    "\n",
    "# # plot the observed data\n",
    "# plt.plot(X_train,yhat_class_logit , 'o', alpha = 0.1, label = 'Train Data')\n",
    "# plt.plot(X_test, 0.94 * yhat_class_logit + 0.03, 'o', alpha = 0.1, label = 'Test Data')\n",
    "\n",
    "# # plot the predictions\n",
    "# plt.plot(___, ___, label = 'logit Classifications')\n",
    "# plt.plot(___, ___, label = 'logit Probabilities')\n",
    "\n",
    "# # put the lower-left part of the legend 5% to the right along the x-axis, and 45% up along the y-axis\n",
    "# plt.legend(loc = (0.05, 0.45))\n",
    "\n",
    "# # Don't forget your axis labels!\n",
    "# plt.xlabel(\"Age\")\n",
    "# plt.ylabel(\"Heart disease (AHD)\")\n",
    "\n",
    "# plt.show()"
   ]
  },
  {
   "cell_type": "markdown",
   "metadata": {},
   "source": [
    "### 1.6. Thay đổi `test_size`\n",
    "\n",
    "Nếu ở phần chia dữ liệu, bạn thay đổi tham số `test_size = 0.3` thì accuracy và f1_score sẽ thay đổi như thế nào?"
   ]
  },
  {
   "cell_type": "code",
   "execution_count": 11,
   "metadata": {},
   "outputs": [
    {
     "name": "stdout",
     "output_type": "stream",
     "text": [
      "The test accuracy is: 0.6043956043956044\n",
      "The test f1_score is: [0.67272727 0.5       ]\n"
     ]
    }
   ],
   "source": [
    "# Your answers\n",
    "X_train, X_test, y_train, y_test = train_test_split(\n",
    "X, y, test_size =0.3, random_state = 1)\n",
    "logit = LogisticRegression(penalty = 'none' ,max_iter = 1e5, random_state = 1)\n",
    "\n",
    "# Fit mô hình với train data\n",
    "logit.fit(X_train,y_train )\n",
    "\n",
    "# Predict trên test data dùng mô hình đã train\n",
    "y_pred_test =logit.predict(X_test)\n",
    "y_pred_test\n",
    "accuracy = metrics.accuracy_score(y_true =y_test, y_pred = y_pred_test)\n",
    "print(f'The test accuracy is: {accuracy}')\n",
    "\n",
    "f1_score = metrics.f1_score(y_true = y_test, y_pred =y_pred_test, average =None)\n",
    "print(f'The test f1_score is: {f1_score}')"
   ]
  },
  {
   "cell_type": "markdown",
   "metadata": {},
   "source": [
    "## 2. Tạo một mô hình Logistic Regression khác với thư viện scikit-learn"
   ]
  },
  {
   "cell_type": "code",
   "execution_count": 12,
   "metadata": {},
   "outputs": [],
   "source": [
    "# Gán tập gồm các biến 'Age','Sex','MaxHR','RestBP','Chol' là `X`\n",
    "features = ['Age','Sex','MaxHR','RestBP','Chol']\n",
    "X = heart[features]"
   ]
  },
  {
   "cell_type": "markdown",
   "metadata": {},
   "source": [
    "### 1.2. Chia dữ liệu\n",
    "\n",
    "Ta sẽ chia dữ liệu làm 2 tập train và test với tỷ lệ 70/30."
   ]
  },
  {
   "cell_type": "code",
   "execution_count": 13,
   "metadata": {},
   "outputs": [
    {
     "name": "stdout",
     "output_type": "stream",
     "text": [
      "Labels counts in y: 303\n",
      "Labels counts in y_train: 212\n",
      "Labels counts in y_test: 91\n"
     ]
    }
   ],
   "source": [
    "from sklearn.model_selection import train_test_split\n",
    "\n",
    "X_train, X_test, y_train, y_test = train_test_split(\n",
    "    X,y, test_size = 0.3, random_state = 1)\n",
    "\n",
    "print('Labels counts in y:', len(y))\n",
    "print('Labels counts in y_train:', len(y_train))\n",
    "print('Labels counts in y_test:', len(y_test))"
   ]
  },
  {
   "cell_type": "markdown",
   "metadata": {},
   "source": [
    "### 2.2. Huấn luyện mô hình\n",
    "\n",
    "Ta sẽ train 2 mô hình logistic, một mô hình với l2 penalty và một mô hình với no penalty."
   ]
  },
  {
   "cell_type": "code",
   "execution_count": 14,
   "metadata": {},
   "outputs": [],
   "source": [
    "logit = LogisticRegression(penalty='none', max_iter = 1e5).fit(X_train, y_train)\n",
    "logit_ridge = LogisticRegression(penalty='l2', C = 0.01, max_iter = 1e5).fit(X_train, y_train)"
   ]
  },
  {
   "cell_type": "markdown",
   "metadata": {},
   "source": [
    "### 2.3. Dự đoán và đánh giá các mô hình"
   ]
  },
  {
   "cell_type": "code",
   "execution_count": 15,
   "metadata": {},
   "outputs": [
    {
     "name": "stdout",
     "output_type": "stream",
     "text": [
      "The test confusion matrix for logit when cut-off is 0.5 : \n",
      " [[35 14]\n",
      " [11 31]]\n",
      "The test confusion matrix for logit_ridge when cut-off is 0.5 : \n",
      " [[40  9]\n",
      " [15 27]]\n"
     ]
    }
   ],
   "source": [
    "# Dự đoán xác xuất và nhãn dựa trên threshold = 0.5 cho test data\n",
    "y_pred_logit = logit.predict_proba(X_test)[:, 1]\n",
    "y_pred_logit_ridge = logit_ridge.predict_proba(X_test)[:, 1]\n",
    "\n",
    "threshold = 0.5\n",
    "\n",
    "# In ra các confusion matrix\n",
    "print('The test confusion matrix for logit when cut-off is', threshold, ': \\n',\n",
    "      metrics.confusion_matrix(y_test, y_pred_logit > threshold))\n",
    "print('The test confusion matrix for logit_ridge when cut-off is', threshold, ': \\n',\n",
    "      metrics.confusion_matrix(y_test, y_pred_logit_ridge > threshold))"
   ]
  },
  {
   "cell_type": "markdown",
   "metadata": {},
   "source": [
    "### 2.4. Trực quan hóa kết quả\n",
    "\n",
    "Ta sẽ dùng ROC curve để trực quan hóa kết quả của các mô hình."
   ]
  },
  {
   "cell_type": "code",
   "execution_count": 16,
   "metadata": {},
   "outputs": [
    {
     "data": {
      "image/png": "[encoded data removed]",
      "text/plain": [
       "<Figure size 640x480 with 1 Axes>"
      ]
     },
     "metadata": {},
     "output_type": "display_data"
    }
   ],
   "source": [
    "fpr, tpr, thresholds = metrics.roc_curve(y_test, y_pred_logit)\n",
    "fpr_ridge, tpr_ridge, thresholds_ridge = metrics.roc_curve(y_test,y_pred_logit_ridge)\n",
    "\n",
    "x = np.arange(0, 100) / 100\n",
    "plt.plot(x, x, '--', color = \"gray\", alpha = 0.3)\n",
    "plt.plot(fpr,tpr, label = \"logit\")\n",
    "plt.plot(fpr_ridge, tpr_ridge, label = \"logit_ridge\")\n",
    "plt.ylabel(\"True Positive Rate\")\n",
    "plt.xlabel(\"False Positive Rate\")\n",
    "plt.title(\"ROC Curve for Predicting AHD in a Logistic Regression Model\")\n",
    "plt.legend()\n",
    "plt.show()"
   ]
  },
  {
   "cell_type": "code",
   "execution_count": 17,
   "metadata": {},
   "outputs": [
    {
     "name": "stdout",
     "output_type": "stream",
     "text": [
      "auc_logit =  0.8420796890184645\n",
      "auc_logit_ridge =  0.7871720116618075\n"
     ]
    }
   ],
   "source": [
    "# In ra AUC scores\n",
    "auc_logit = metrics.roc_auc_score(y_test, y_pred_logit)\n",
    "auc_logit_ridge = metrics.roc_auc_score(y_test, y_pred_logit_ridge)\n",
    "print(\"auc_logit = \", auc_logit)\n",
    "print(\"auc_logit_ridge = \", auc_logit_ridge)"
   ]
  },
  {
   "cell_type": "markdown",
   "metadata": {},
   "source": [
    "## 3. Regularization với Ridge, Lasso, và ElasticNet"
   ]
  },
  {
   "cell_type": "markdown",
   "metadata": {},
   "source": [
    "### 3.2. Chọn `ADH` là output, tất cả các biến còn lại là input"
   ]
  },
  {
   "cell_type": "code",
   "execution_count": 18,
   "metadata": {},
   "outputs": [],
   "source": [
    "heart_dropna = heart.dropna()"
   ]
  },
  {
   "cell_type": "code",
   "execution_count": 19,
   "metadata": {},
   "outputs": [],
   "source": [
    "y=heart_dropna[[\"AHD\"]].values\n",
    "X=heart_dropna.drop(columns=['AHD','Unnamed: 0'])"
   ]
  },
  {
   "cell_type": "code",
   "execution_count": 20,
   "metadata": {},
   "outputs": [
    {
     "data": {
      "text/html": [
       "<div>\n",
       "<style scoped>\n",
       "    .dataframe tbody tr th:only-of-type {\n",
       "        vertical-align: middle;\n",
       "    }\n",
       "\n",
       "    .dataframe tbody tr th {\n",
       "        vertical-align: top;\n",
       "    }\n",
       "\n",
       "    .dataframe thead th {\n",
       "        text-align: right;\n",
       "    }\n",
       "</style>\n",
       "<table border=\"1\" class=\"dataframe\">\n",
       "  <thead>\n",
       "    <tr style=\"text-align: right;\">\n",
       "      <th></th>\n",
       "      <th>Age</th>\n",
       "      <th>Sex</th>\n",
       "      <th>RestBP</th>\n",
       "      <th>Chol</th>\n",
       "      <th>Fbs</th>\n",
       "      <th>RestECG</th>\n",
       "      <th>MaxHR</th>\n",
       "      <th>ExAng</th>\n",
       "      <th>Oldpeak</th>\n",
       "      <th>Slope</th>\n",
       "      <th>Ca</th>\n",
       "      <th>0</th>\n",
       "      <th>1</th>\n",
       "      <th>2</th>\n",
       "      <th>3</th>\n",
       "      <th>4</th>\n",
       "      <th>5</th>\n",
       "      <th>6</th>\n",
       "    </tr>\n",
       "  </thead>\n",
       "  <tbody>\n",
       "    <tr>\n",
       "      <th>0</th>\n",
       "      <td>63</td>\n",
       "      <td>1</td>\n",
       "      <td>145</td>\n",
       "      <td>233</td>\n",
       "      <td>1</td>\n",
       "      <td>2</td>\n",
       "      <td>150</td>\n",
       "      <td>0</td>\n",
       "      <td>2.3</td>\n",
       "      <td>3</td>\n",
       "      <td>0.0</td>\n",
       "      <td>0.0</td>\n",
       "      <td>0.0</td>\n",
       "      <td>0.0</td>\n",
       "      <td>1.0</td>\n",
       "      <td>1.0</td>\n",
       "      <td>0.0</td>\n",
       "      <td>0.0</td>\n",
       "    </tr>\n",
       "    <tr>\n",
       "      <th>1</th>\n",
       "      <td>67</td>\n",
       "      <td>1</td>\n",
       "      <td>160</td>\n",
       "      <td>286</td>\n",
       "      <td>0</td>\n",
       "      <td>2</td>\n",
       "      <td>108</td>\n",
       "      <td>1</td>\n",
       "      <td>1.5</td>\n",
       "      <td>2</td>\n",
       "      <td>3.0</td>\n",
       "      <td>1.0</td>\n",
       "      <td>0.0</td>\n",
       "      <td>0.0</td>\n",
       "      <td>0.0</td>\n",
       "      <td>0.0</td>\n",
       "      <td>1.0</td>\n",
       "      <td>0.0</td>\n",
       "    </tr>\n",
       "    <tr>\n",
       "      <th>2</th>\n",
       "      <td>67</td>\n",
       "      <td>1</td>\n",
       "      <td>120</td>\n",
       "      <td>229</td>\n",
       "      <td>0</td>\n",
       "      <td>2</td>\n",
       "      <td>129</td>\n",
       "      <td>1</td>\n",
       "      <td>2.6</td>\n",
       "      <td>2</td>\n",
       "      <td>2.0</td>\n",
       "      <td>1.0</td>\n",
       "      <td>0.0</td>\n",
       "      <td>0.0</td>\n",
       "      <td>0.0</td>\n",
       "      <td>0.0</td>\n",
       "      <td>0.0</td>\n",
       "      <td>1.0</td>\n",
       "    </tr>\n",
       "    <tr>\n",
       "      <th>3</th>\n",
       "      <td>37</td>\n",
       "      <td>1</td>\n",
       "      <td>130</td>\n",
       "      <td>250</td>\n",
       "      <td>0</td>\n",
       "      <td>0</td>\n",
       "      <td>187</td>\n",
       "      <td>0</td>\n",
       "      <td>3.5</td>\n",
       "      <td>3</td>\n",
       "      <td>0.0</td>\n",
       "      <td>0.0</td>\n",
       "      <td>1.0</td>\n",
       "      <td>0.0</td>\n",
       "      <td>0.0</td>\n",
       "      <td>0.0</td>\n",
       "      <td>1.0</td>\n",
       "      <td>0.0</td>\n",
       "    </tr>\n",
       "    <tr>\n",
       "      <th>4</th>\n",
       "      <td>41</td>\n",
       "      <td>0</td>\n",
       "      <td>130</td>\n",
       "      <td>204</td>\n",
       "      <td>0</td>\n",
       "      <td>2</td>\n",
       "      <td>172</td>\n",
       "      <td>0</td>\n",
       "      <td>1.4</td>\n",
       "      <td>1</td>\n",
       "      <td>0.0</td>\n",
       "      <td>0.0</td>\n",
       "      <td>0.0</td>\n",
       "      <td>1.0</td>\n",
       "      <td>0.0</td>\n",
       "      <td>0.0</td>\n",
       "      <td>1.0</td>\n",
       "      <td>0.0</td>\n",
       "    </tr>\n",
       "  </tbody>\n",
       "</table>\n",
       "</div>"
      ],
      "text/plain": [
       "   Age  Sex  RestBP  Chol  Fbs  RestECG  MaxHR  ExAng  Oldpeak  Slope   Ca  \\\n",
       "0   63    1     145   233    1        2    150      0      2.3      3  0.0   \n",
       "1   67    1     160   286    0        2    108      1      1.5      2  3.0   \n",
       "2   67    1     120   229    0        2    129      1      2.6      2  2.0   \n",
       "3   37    1     130   250    0        0    187      0      3.5      3  0.0   \n",
       "4   41    0     130   204    0        2    172      0      1.4      1  0.0   \n",
       "\n",
       "     0    1    2    3    4    5    6  \n",
       "0  0.0  0.0  0.0  1.0  1.0  0.0  0.0  \n",
       "1  1.0  0.0  0.0  0.0  0.0  1.0  0.0  \n",
       "2  1.0  0.0  0.0  0.0  0.0  0.0  1.0  \n",
       "3  0.0  1.0  0.0  0.0  0.0  1.0  0.0  \n",
       "4  0.0  0.0  1.0  0.0  0.0  1.0  0.0  "
      ]
     },
     "execution_count": 20,
     "metadata": {},
     "output_type": "execute_result"
    }
   ],
   "source": [
    "import pandas as pd\n",
    "from sklearn.preprocessing import OneHotEncoder\n",
    "from sklearn.compose import make_column_transformer\n",
    "\n",
    "# Chọn biến `ADH` là ouput (chuyển sang dạng nhị phân 0/1), các biến còn lại là input\n",
    "\n",
    "y=heart_dropna[[\"AHD\"]].values\n",
    "y = 1 * (heart_dropna['AHD'] == 'Yes').values\n",
    "X=heart_dropna.drop(columns=['AHD','Unnamed: 0'])\n",
    "\n",
    "# Categorical features\n",
    "cat_features = ['ChestPain', 'Thal']\n",
    "\n",
    "# Mã hóa (encode) các cột categorical thành dạng one-hot\n",
    "oh_encoder = OneHotEncoder(handle_unknown = 'ignore', sparse = False)\n",
    "oh_cols = pd.DataFrame(oh_encoder.fit_transform(X[cat_features]))\n",
    "\n",
    "# One-hot encoding removed index; put it back\n",
    "oh_cols.index = X.index\n",
    "\n",
    "# Remove categorical columns (will replace with one-hot encoding)\n",
    "num_cols = X.drop(columns=cat_features, axis = 1)\n",
    "\n",
    "# Add one-hot encoded columns to numerical columns\n",
    "oh_X = pd.concat([num_cols,oh_cols], axis = 1)\n",
    "\n",
    "oh_X.head()"
   ]
  },
  {
   "cell_type": "code",
   "execution_count": 21,
   "metadata": {},
   "outputs": [
    {
     "data": {
      "text/plain": [
       "297"
      ]
     },
     "execution_count": 21,
     "metadata": {},
     "output_type": "execute_result"
    }
   ],
   "source": [
    "len(y)"
   ]
  },
  {
   "cell_type": "markdown",
   "metadata": {},
   "source": [
    "### 3.3. Tách dữ liệu thành train và test set\n",
    "\n",
    "Tách dữ liệu thành train và test set với tỷ lệ 80/20 trên dữ liệu sau khi đã encode các biến categorical."
   ]
  },
  {
   "cell_type": "code",
   "execution_count": 22,
   "metadata": {},
   "outputs": [],
   "source": [
    "X_train, X_test, y_train, y_test = train_test_split(\n",
    "    oh_X, y, test_size =0.2, random_state = 1)"
   ]
  },
  {
   "cell_type": "code",
   "execution_count": 23,
   "metadata": {},
   "outputs": [
    {
     "name": "stdout",
     "output_type": "stream",
     "text": [
      "60\n"
     ]
    }
   ],
   "source": [
    "print(len(y_test))"
   ]
  },
  {
   "cell_type": "code",
   "execution_count": 24,
   "metadata": {},
   "outputs": [
    {
     "name": "stdout",
     "output_type": "stream",
     "text": [
      "237\n"
     ]
    }
   ],
   "source": [
    "print(len(y_train))"
   ]
  },
  {
   "cell_type": "markdown",
   "metadata": {},
   "source": [
    "### 3.4. Áp dụng mô hình Logistic Regression dùng thư viện scikit-learn"
   ]
  },
  {
   "cell_type": "code",
   "execution_count": 25,
   "metadata": {},
   "outputs": [],
   "source": [
    "# Khởi tạo một Linear Regression model\n",
    "logit = LogisticRegression(penalty = 'none', max_iter = 1e4)\n",
    "\n",
    "# Fit model trên train data\n",
    "logit.fit(X_train, y_train)\n",
    "\n",
    "# Predict trên test data\n",
    "y_test_pred = logit.predict(X_test)"
   ]
  },
  {
   "cell_type": "markdown",
   "metadata": {},
   "source": [
    "### 3.5. Đánh giá mô hình"
   ]
  },
  {
   "cell_type": "code",
   "execution_count": 26,
   "metadata": {},
   "outputs": [
    {
     "name": "stdout",
     "output_type": "stream",
     "text": [
      "The test confusion matrix is:\n",
      " [[24  6]\n",
      " [ 6 24]]\n",
      "The test accuracy is: 0.8\n",
      "The test f1_score is: [0.8 0.8]\n",
      "The test f1_micro is: 0.8000000000000002\n",
      "The test f1_macro is: 0.8000000000000002\n"
     ]
    }
   ],
   "source": [
    "cm_test = metrics.confusion_matrix(y_true =y_test, y_pred = y_test_pred)\n",
    "print(f'The test confusion matrix is:\\n {cm_test}')\n",
    "\n",
    "accuracy = metrics.accuracy_score(y_true =y_test, y_pred = y_test_pred)\n",
    "print(f'The test accuracy is: {accuracy}')\n",
    "\n",
    "f1_score = metrics.f1_score(y_true = y_test, y_pred =y_test_pred, average =None)\n",
    "print(f'The test f1_score is: {f1_score}')\n",
    "\n",
    "f1_micro = metrics.f1_score(y_true = y_test, y_pred = y_test_pred,average='micro')\n",
    "print(f'The test f1_micro is: {f1_micro}')\n",
    "\n",
    "f1_macro = metrics.f1_score(y_true = y_test, y_pred = y_test_pred,average='macro')\n",
    "print(f'The test f1_macro is: {f1_macro}')"
   ]
  },
  {
   "cell_type": "markdown",
   "metadata": {},
   "source": [
    "### 3.6. In ra các hệ số của Linear Regression model"
   ]
  },
  {
   "cell_type": "code",
   "execution_count": 27,
   "metadata": {},
   "outputs": [
    {
     "data": {
      "text/plain": [
       "{'Age': -0.021559257504220653,\n",
       " 'Sex': 1.7166877992005813,\n",
       " 'ChestPain': 0.03797901800419046,\n",
       " 'RestBP': 0.006964380260632037,\n",
       " 'Chol': -1.6803957407111232,\n",
       " 'Fbs': 0.3405986171092271,\n",
       " 'RestECG': -0.026060815942720028,\n",
       " 'MaxHR': 0.49040942909189367,\n",
       " 'ExAng': 0.5127191322558299,\n",
       " 'Oldpeak': 0.8062973088627601,\n",
       " 'Slope': 1.5093391094262647,\n",
       " 'Ca': 0.019947072408607693,\n",
       " 'Thal': -1.7980937540469788}"
      ]
     },
     "execution_count": 27,
     "metadata": {},
     "output_type": "execute_result"
    }
   ],
   "source": [
    "import numpy as np\n",
    "\n",
    "# Tạo một dictionary cho các coefficient với tên biến là các key\n",
    "logit_coef = dict(zip(X.columns, np.transpose(logit.coef_[0])))\n",
    "logit_coef"
   ]
  },
  {
   "cell_type": "code",
   "execution_count": 28,
   "metadata": {},
   "outputs": [
    {
     "name": "stdout",
     "output_type": "stream",
     "text": [
      "['Age', 'Sex', 'ChestPain', 'RestBP', 'Chol', 'Fbs', 'RestECG', 'MaxHR', 'ExAng', 'Oldpeak', 'Slope', 'Ca', 'Thal']\n",
      "[-0.021559257504220653, 1.7166877992005813, 0.03797901800419046, 0.006964380260632037, -1.6803957407111232, 0.3405986171092271, -0.026060815942720028, 0.49040942909189367, 0.5127191322558299, 0.8062973088627601, 1.5093391094262647, 0.019947072408607693, -1.7980937540469788]\n"
     ]
    }
   ],
   "source": [
    "# Linear regression coefficients\n",
    "logit_x = list(logit_coef.keys())\n",
    "logit_y = list(logit_coef.values())\n",
    "print(logit_x)\n",
    "print(logit_y)"
   ]
  },
  {
   "cell_type": "markdown",
   "metadata": {},
   "source": [
    "### 3.7. Dùng mô hình Logistic Ridge Regression"
   ]
  },
  {
   "cell_type": "code",
   "execution_count": 29,
   "metadata": {},
   "outputs": [],
   "source": [
    "from sklearn.linear_model import LogisticRegression\n",
    "\n",
    "# Tạo một Logistic Ridge Regression model (penalty = 'l2') với C = 0.1\n",
    "logit_ridge = LogisticRegression(penalty = 'l2', C = 0.1, max_iter = 1e5)\n",
    "\n",
    "# Fit mô hình trên train data\n",
    "logit_ridge.fit(X_train, y_train)\n",
    "\n",
    "# Predict trên test data\n",
    "y_test_pred =logit_ridge.predict(X_test)"
   ]
  },
  {
   "cell_type": "markdown",
   "metadata": {},
   "source": [
    "### 3.8. Đánh giá mô hình với Logistic Ridge Regression"
   ]
  },
  {
   "cell_type": "code",
   "execution_count": 30,
   "metadata": {},
   "outputs": [
    {
     "name": "stdout",
     "output_type": "stream",
     "text": [
      "The test confusion matrix is:\n",
      " [[24  6]\n",
      " [ 5 25]]\n",
      "The test accuracy is: 0.8166666666666667\n",
      "The test f1_score is: [0.81355932 0.81967213]\n",
      "The test f1_micro is: 0.8166666666666667\n",
      "The test f1_macro is: 0.8166157265907197\n"
     ]
    }
   ],
   "source": [
    "cm_test = metrics.confusion_matrix(y_true =y_test, y_pred = y_test_pred)\n",
    "print(f'The test confusion matrix is:\\n {cm_test}')\n",
    "\n",
    "accuracy = metrics.accuracy_score(y_true =y_test, y_pred = y_test_pred)\n",
    "print(f'The test accuracy is: {accuracy}')\n",
    "\n",
    "f1_score = metrics.f1_score(y_true = y_test, y_pred =y_test_pred, average =None)\n",
    "print(f'The test f1_score is: {f1_score}')\n",
    "\n",
    "f1_micro = metrics.f1_score(y_true = y_test, y_pred = y_test_pred,average='micro')\n",
    "print(f'The test f1_micro is: {f1_micro}')\n",
    "\n",
    "f1_macro = metrics.f1_score(y_true = y_test, y_pred = y_test_pred,average='macro')\n",
    "print(f'The test f1_macro is: {f1_macro}')"
   ]
  },
  {
   "cell_type": "markdown",
   "metadata": {},
   "source": [
    "### 3.9. In ra các hệ số của Ridge Regression model"
   ]
  },
  {
   "cell_type": "code",
   "execution_count": 31,
   "metadata": {},
   "outputs": [
    {
     "data": {
      "text/plain": [
       "{'Age': -0.016282506281764808,\n",
       " 'Sex': 0.4683648650053078,\n",
       " 'ChestPain': 0.017089928635899095,\n",
       " 'RestBP': 0.003944875853011257,\n",
       " 'Chol': -0.2483187789971559,\n",
       " 'Fbs': 0.21592256508876956,\n",
       " 'RestECG': -0.02881527661197775,\n",
       " 'MaxHR': 0.27526487971411195,\n",
       " 'ExAng': 0.4439530303979019,\n",
       " 'Oldpeak': 0.1541949180591345,\n",
       " 'Slope': 0.7037016179079022,\n",
       " 'Ca': 0.49648149346038034,\n",
       " 'Thal': -0.30922261332456125}"
      ]
     },
     "execution_count": 31,
     "metadata": {},
     "output_type": "execute_result"
    }
   ],
   "source": [
    "# Tạo một dictionary cho các coefficient với tên biến là các key\n",
    "logit_ridge_coef = dict(zip(X.columns, np.transpose(logit_ridge.coef_[0]))) \n",
    "logit_ridge_coef"
   ]
  },
  {
   "cell_type": "code",
   "execution_count": 32,
   "metadata": {},
   "outputs": [
    {
     "name": "stdout",
     "output_type": "stream",
     "text": [
      "['Age', 'Sex', 'ChestPain', 'RestBP', 'Chol', 'Fbs', 'RestECG', 'MaxHR', 'ExAng', 'Oldpeak', 'Slope', 'Ca', 'Thal']\n",
      "[-0.016282506281764808, 0.4683648650053078, 0.017089928635899095, 0.003944875853011257, -0.2483187789971559, 0.21592256508876956, -0.02881527661197775, 0.27526487971411195, 0.4439530303979019, 0.1541949180591345, 0.7037016179079022, 0.49648149346038034, -0.30922261332456125]\n"
     ]
    }
   ],
   "source": [
    "# Lasso regularisation coefficients\n",
    "logit_ridge_x = list(logit_ridge_coef.keys())\n",
    "logit_ridge_y = list(logit_ridge_coef.values())\n",
    "print(logit_ridge_x)\n",
    "print(logit_ridge_y)"
   ]
  },
  {
   "cell_type": "markdown",
   "metadata": {},
   "source": [
    "### 3.10. Dùng mô hình Logistic Lasso Regression"
   ]
  },
  {
   "cell_type": "code",
   "execution_count": 33,
   "metadata": {},
   "outputs": [],
   "source": [
    "from sklearn.linear_model import LogisticRegression\n",
    "\n",
    "# Tạo một Logistic Lasso Regression model (penalty = 'l1') với C = 0.1 và solver = 'liblinear'\n",
    "logit_lasso = LogisticRegression(penalty='l1', C=0.1,solver='liblinear', max_iter = 1e5)\n",
    "\n",
    "# Fit mô hình trên train data\n",
    "logit_lasso.fit(X_train, y_train)\n",
    "\n",
    "# Predict trên test data\n",
    "y_test_pred = logit_lasso.predict(X_test)"
   ]
  },
  {
   "cell_type": "markdown",
   "metadata": {},
   "source": [
    "### 3.11. Đánh giá mô hình Logistic Lasso Regression"
   ]
  },
  {
   "cell_type": "code",
   "execution_count": 34,
   "metadata": {},
   "outputs": [
    {
     "name": "stdout",
     "output_type": "stream",
     "text": [
      "The test confusion matrix is:\n",
      " [[26  4]\n",
      " [ 7 23]]\n",
      "The test accuracy is: 0.8166666666666667\n",
      "The test f1_score is: [0.82539683 0.80701754]\n",
      "The test f1_micro is: 0.8166666666666667\n",
      "The test f1_macro is: 0.8162071846282373\n"
     ]
    }
   ],
   "source": [
    "import sklearn.metrics as metrics\n",
    "\n",
    "cm_test = metrics.confusion_matrix(y_true =y_test, y_pred = y_test_pred)\n",
    "print(f'The test confusion matrix is:\\n {cm_test}')\n",
    "\n",
    "accuracy = metrics.accuracy_score(y_true =y_test, y_pred = y_test_pred)\n",
    "print(f'The test accuracy is: {accuracy}')\n",
    "\n",
    "f1_score = metrics.f1_score(y_true = y_test, y_pred =y_test_pred, average =None)\n",
    "print(f'The test f1_score is: {f1_score}')\n",
    "\n",
    "f1_micro = metrics.f1_score(y_true = y_test, y_pred = y_test_pred,average='micro')\n",
    "print(f'The test f1_micro is: {f1_micro}')\n",
    "\n",
    "f1_macro = metrics.f1_score(y_true = y_test, y_pred = y_test_pred,average='macro')\n",
    "print(f'The test f1_macro is: {f1_macro}')"
   ]
  },
  {
   "cell_type": "markdown",
   "metadata": {},
   "source": [
    "### 3.12. In ra các hệ số của Lasso Logistic Regression model"
   ]
  },
  {
   "cell_type": "code",
   "execution_count": 35,
   "metadata": {},
   "outputs": [
    {
     "data": {
      "text/plain": [
       "{'Age': -0.005415402889137079,\n",
       " 'Sex': 0.0,\n",
       " 'ChestPain': 0.017233721684992844,\n",
       " 'RestBP': 0.003663261855265743,\n",
       " 'Chol': 0.0,\n",
       " 'Fbs': 0.0045511529073067125,\n",
       " 'RestECG': -0.02911712519572283,\n",
       " 'MaxHR': 0.0,\n",
       " 'ExAng': 0.45714722315365136,\n",
       " 'Oldpeak': 0.0,\n",
       " 'Slope': 0.5557308449058647,\n",
       " 'Ca': 0.42418670175863066,\n",
       " 'Thal': 0.0}"
      ]
     },
     "execution_count": 35,
     "metadata": {},
     "output_type": "execute_result"
    }
   ],
   "source": [
    "# Tạo một dictionary cho các coefficient với tên biến là các key\n",
    "logit_lasso_coef = dict(zip(X.columns, np.transpose(logit_lasso.coef_[0]))) \n",
    "logit_lasso_coef"
   ]
  },
  {
   "cell_type": "code",
   "execution_count": 36,
   "metadata": {},
   "outputs": [],
   "source": [
    "# Lasso regularization coefficients\n",
    "logit_lasso_x = list(logit_lasso_coef.keys())\n",
    "logit_lasso_y = list(logit_lasso_coef.values())"
   ]
  },
  {
   "cell_type": "markdown",
   "metadata": {},
   "source": [
    "### 3.13. Dùng mô hình Logistic ElasticNet Regression"
   ]
  },
  {
   "cell_type": "code",
   "execution_count": 37,
   "metadata": {},
   "outputs": [],
   "source": [
    "from sklearn.linear_model import LogisticRegression\n",
    "\n",
    "# Tạo một Logistic ElasticNet Regression model (penalty = 'elasticnet') \n",
    "# với solver = 'saga', C = 0.1, l1_ratio = 0.5\n",
    "logit_elasticnet = LogisticRegression(penalty = 'elasticnet', \n",
    "                                      solver='saga', \n",
    "                                      C=0.1, \n",
    "                                      l1_ratio=0.5, \n",
    "                                      max_iter = 1e5)\n",
    "\n",
    "# Fit mô hình trên train data\n",
    "logit_elasticnet.fit(X_train, y_train)\n",
    "\n",
    "# Predict trên test data\n",
    "y_test_pred = logit_elasticnet.predict(X_test)"
   ]
  },
  {
   "cell_type": "markdown",
   "metadata": {},
   "source": [
    "### 3.14. Đánh giá mô hình Logistic ElasticNet Regression"
   ]
  },
  {
   "cell_type": "code",
   "execution_count": 38,
   "metadata": {},
   "outputs": [
    {
     "name": "stdout",
     "output_type": "stream",
     "text": [
      "The test confusion matrix is:\n",
      " [[24  6]\n",
      " [ 8 22]]\n",
      "The test accuracy is: 0.7666666666666667\n",
      "The test f1_score is: [0.77419355 0.75862069]\n",
      "The test f1_micro is: 0.7666666666666667\n",
      "The test f1_macro is: 0.7664071190211346\n"
     ]
    }
   ],
   "source": [
    "import sklearn.metrics as metrics\n",
    "\n",
    "cm_test = metrics.confusion_matrix(y_true =y_test, y_pred = y_test_pred)\n",
    "print(f'The test confusion matrix is:\\n {cm_test}')\n",
    "\n",
    "accuracy = metrics.accuracy_score(y_true =y_test, y_pred = y_test_pred)\n",
    "print(f'The test accuracy is: {accuracy}')\n",
    "\n",
    "f1_score = metrics.f1_score(y_true = y_test, y_pred =y_test_pred, average =None)\n",
    "print(f'The test f1_score is: {f1_score}')\n",
    "\n",
    "f1_micro = metrics.f1_score(y_true = y_test, y_pred = y_test_pred,average='micro')\n",
    "print(f'The test f1_micro is: {f1_micro}')\n",
    "\n",
    "f1_macro = metrics.f1_score(y_true = y_test, y_pred = y_test_pred,average='macro')\n",
    "print(f'The test f1_macro is: {f1_macro}')"
   ]
  },
  {
   "cell_type": "markdown",
   "metadata": {},
   "source": [
    "### 3.16. In ra các hệ số của ElasticNet Regression model"
   ]
  },
  {
   "cell_type": "code",
   "execution_count": 39,
   "metadata": {},
   "outputs": [
    {
     "data": {
      "text/plain": [
       "{'Age': -0.0020589271992595406,\n",
       " 'Sex': 0.17649395511935467,\n",
       " 'ChestPain': 0.01638290435096552,\n",
       " 'RestBP': 0.004145636929815273,\n",
       " 'Chol': 0.0,\n",
       " 'Fbs': 0.09054442018412318,\n",
       " 'RestECG': -0.02919878063130688,\n",
       " 'MaxHR': 0.1264730536881865,\n",
       " 'ExAng': 0.4001732916304125,\n",
       " 'Oldpeak': 0.07490444886022993,\n",
       " 'Slope': 0.40717996919044835,\n",
       " 'Ca': 0.2459122497949917,\n",
       " 'Thal': -0.0833287892808504}"
      ]
     },
     "execution_count": 39,
     "metadata": {},
     "output_type": "execute_result"
    }
   ],
   "source": [
    "# Tạo một dictionary cho các coefficient với tên biến là các key\n",
    "logit_elasticnet_coef = dict(zip(X.columns, np.transpose(logit_elasticnet.coef_[0]))) \n",
    "logit_elasticnet_coef"
   ]
  },
  {
   "cell_type": "code",
   "execution_count": 40,
   "metadata": {},
   "outputs": [
    {
     "name": "stdout",
     "output_type": "stream",
     "text": [
      "['Age', 'Sex', 'ChestPain', 'RestBP', 'Chol', 'Fbs', 'RestECG', 'MaxHR', 'ExAng', 'Oldpeak', 'Slope', 'Ca', 'Thal']\n",
      "[-0.0020589271992595406, 0.17649395511935467, 0.01638290435096552, 0.004145636929815273, 0.0, 0.09054442018412318, -0.02919878063130688, 0.1264730536881865, 0.4001732916304125, 0.07490444886022993, 0.40717996919044835, 0.2459122497949917, -0.0833287892808504]\n"
     ]
    }
   ],
   "source": [
    "# ElasticNet regularisation coefficients\n",
    "logit_elasticnet_x = list(logit_elasticnet_coef.keys())\n",
    "logit_elasticnet_y = list(logit_elasticnet_coef.values())\n",
    "print(logit_elasticnet_x)\n",
    "print(logit_elasticnet_y)"
   ]
  },
  {
   "cell_type": "markdown",
   "metadata": {},
   "source": [
    "### 3.13. Vẽ biểu đồ so sánh hệ số của các mô hình"
   ]
  },
  {
   "cell_type": "code",
   "execution_count": 41,
   "metadata": {},
   "outputs": [
    {
     "data": {
      "image/png": "[encoded data removed]",
      "text/plain": [
       "<Figure size 640x480 with 1 Axes>"
      ]
     },
     "metadata": {},
     "output_type": "display_data"
    }
   ],
   "source": [
    "plt.rcdefaults()\n",
    "\n",
    "plt.barh(logit_x, logit_y, 1.0, align = 'edge', color = \"blue\", label = \"Linear Regression\")\n",
    "plt.barh(logit_ridge_x, logit_ridge_y, 0.75 ,align = 'edge', color = \"green\", label = \"Ridge Regularization\")\n",
    "plt.barh(logit_lasso_x, logit_elasticnet_y, 0.5 ,align = 'edge', color = \"orange\", label = \"Lasso Regularization\")\n",
    "plt.barh(logit_elasticnet_x, logit_elasticnet_y, 0.25 ,align = 'edge', color = \"red\", label = \"ElasticNet Regularization\")\n",
    "plt.grid(linewidth = 0.2)\n",
    "plt.xlabel(\"Coefficient value\")\n",
    "plt.ylabel(\"Variables\")\n",
    "plt.legend(loc = 'best')\n",
    "plt.xlim(-2, 2)\n",
    "plt.show()"
   ]
  },
  {
   "cell_type": "markdown",
   "metadata": {},
   "source": [
    "### 3.14. Nhận xét về các mô hình\n",
    "\n",
    "Nhận xét về hiệu quả của Logistic Lasso Regression, Logistic ElasticNet Regression, và Logistic Ridge Regression so với Logistic Regression\n",
    "\n",
    "- \n",
    "\n",
    "- \n"
   ]
  },
  {
   "cell_type": "markdown",
   "metadata": {},
   "source": [
    "## 4. Model selection cho Logistic Ridge Regression dùng phương pháp holdout\n",
    "\n",
    "![holdout_model_selection](./image/holdout_model_selection.JPG)"
   ]
  },
  {
   "cell_type": "markdown",
   "metadata": {},
   "source": [
    "### 4.1. Chia dữ liệu"
   ]
  },
  {
   "cell_type": "code",
   "execution_count": 42,
   "metadata": {},
   "outputs": [],
   "source": [
    "# Chia dữ liệu thành 2 tập train_val và test set với tỷ lệ 80/20\n",
    "X_train_val, X_test, y_train_val, y_test = train_test_split(\n",
    "    oh_X, y, test_size =0.2, random_state = 1)\n",
    "\n",
    "# Tiếp theo, chia tập train_val thành 2 tập train và validation set với tỷ lệ 75/25\n",
    "X_train, X_val, y_train, y_val = train_test_split(\n",
    "    X_train_val, y_train_val, test_size =0.25, random_state = 1)"
   ]
  },
  {
   "cell_type": "markdown",
   "metadata": {},
   "source": [
    "### 4.2. Huấn luyện mô hình với các giá trị tham số `C` khác nhau"
   ]
  },
  {
   "cell_type": "code",
   "execution_count": 43,
   "metadata": {},
   "outputs": [
    {
     "name": "stdout",
     "output_type": "stream",
     "text": [
      "C: 0.0001 | train f1: 0.68 | val f1: 1.0 | test f1: 0.6\n",
      "C: 0.001 | train f1: 0.72 | val f1: 1.0 | test f1: 0.67\n",
      "C: 0.01 | train f1: 0.76 | val f1: 1.0 | test f1: 0.75\n",
      "C: 0.1 | train f1: 0.82 | val f1: 1.0 | test f1: 0.82\n",
      "C: 1 | train f1: 0.84 | val f1: 1.0 | test f1: 0.8\n",
      "C: 10 | train f1: 0.84 | val f1: 1.0 | test f1: 0.8\n",
      "C: 100.0 | train f1: 0.84 | val f1: 1.0 | test f1: 0.8\n",
      "C: 1000.0 | train f1: 0.84 | val f1: 1.0 | test f1: 0.8\n",
      "C: 10000.0 | train f1: 0.84 | val f1: 1.0 | test f1: 0.8\n"
     ]
    }
   ],
   "source": [
    "import numpy as np\n",
    "\n",
    "# Create three lists for train, validation, and test F1-score\n",
    "train_f1 = []\n",
    "val_f1 = []\n",
    "test_f1 = []\n",
    "\n",
    "# List of hyper-parameter values \n",
    "Cs = [1e-4, 1e-3, 1e-2, 1e-1, 1, 10, 1e2, 1e3, 1e4]\n",
    "\n",
    "# Loop over all the C values\n",
    "for C in Cs:\n",
    "    # Tạo mô hình Logistic Ridge regression với tham số C\n",
    "    logit_ridge = LogisticRegression(penalty = 'l2', \n",
    "                                      solver = 'saga', \n",
    "                                      max_iter = 1e5, \n",
    "                                      C = C)\n",
    "\n",
    "    # Fit mô hình trên train data\n",
    "    logit_ridge.fit(X_train,y_train)\n",
    "    \n",
    "    # Predict trên train set \n",
    "    y_train_pred = logit_ridge.predict(X_train)\n",
    "    \n",
    "    # Predict trên validation set \n",
    "    y_val_pred = logit_ridge.predict(X_train_val)\n",
    "\n",
    "    # Predict trên test set \n",
    "    y_test_pred = logit_ridge.predict(X_test)\n",
    "    \n",
    "    # Tính train, validation, và test F1-score\n",
    "    f1_train = metrics.f1_score(y_true = y_train, y_pred = y_train_pred, average='micro')\n",
    "    f1_val = metrics.f1_score(y_true = y_train_val, y_pred = y_train_val, average='micro')\n",
    "    f1_test = metrics.f1_score(y_true = y_test, y_pred= y_test_pred, average='micro')\n",
    "    \n",
    "    # Thêm các F1-score vào các list tương ứng\n",
    "    train_f1.append(f1_train)\n",
    "    test_f1.append(f1_test)\n",
    "    val_f1.append(f1_val)\n",
    "    \n",
    "    # In ra train, validation, và test F1-score theo C\n",
    "    print(f'C: {C} | train f1: {np.round(f1_train, 2)} | val f1: {np.round(f1_val, 2)} | test f1: {np.round(f1_test, 2)}')"
   ]
  },
  {
   "cell_type": "markdown",
   "metadata": {},
   "source": [
    "### 4.3. Chọn giá trị `C` cho kết quả tốt nhất trên validation set"
   ]
  },
  {
   "cell_type": "code",
   "execution_count": 44,
   "metadata": {},
   "outputs": [
    {
     "name": "stdout",
     "output_type": "stream",
     "text": [
      "The best C (hyper-parameter) value, C = 0.1\n"
     ]
    }
   ],
   "source": [
    "# Chọn giá trị C (hyper-parameter), cho val F1-score lớn nhất trên validation data \n",
    "best_C = 0.1\n",
    "# In ra best C (hyper-parameter)\n",
    "print(f'The best C (hyper-parameter) value, C = {best_C}')"
   ]
  },
  {
   "cell_type": "markdown",
   "metadata": {},
   "source": [
    "### 4.4. Vẽ biểu đồ train/val/test F1-score theo C"
   ]
  },
  {
   "cell_type": "code",
   "execution_count": 45,
   "metadata": {},
   "outputs": [
    {
     "data": {
      "image/png": "[encoded data removed]",
      "text/plain": [
       "<Figure size 1200x800 with 1 Axes>"
      ]
     },
     "metadata": {},
     "output_type": "display_data"
    }
   ],
   "source": [
    "fig, ax = plt.subplots(figsize = (12, 8))\n",
    "\n",
    "# Vẽ biểu đồ train F1-score theo các giá trị C\n",
    "ax.plot(Cs, train_f1, 's--', label = 'Train error', color = 'blue', linewidth = 2)\n",
    "\n",
    "# # Vẽ biểu đồ validation F1-score theo các giá trị C\n",
    "ax.plot(Cs, val_f1, 's-', label = 'Val error', color ='green', linewidth = 2)\n",
    "\n",
    "# # Vẽ biểu đồ test F1-score theo các giá trị C\n",
    "ax.plot(Cs, test_f1, 's-', label = 'Test error', color ='purple', linewidth = 2)\n",
    "\n",
    "# # Vẽ đường thẳng đứng ứng với best C\n",
    "ax.axvline(best_C, 0, 1, color = 'r', label = f'Max validation F1-score at C = {1}')\n",
    "\n",
    "ax.set_xlabel('Value of C', fontsize = 15)\n",
    "ax.set_ylabel('F1-score', fontsize = 15)\n",
    "ax.set_ylim([0, 1])\n",
    "ax.legend(loc = 'lower left', fontsize = 16)\n",
    "ax.set_title('F1-score', fontsize = 20)\n",
    "ax.set_xscale('log')\n",
    "plt.tight_layout()\n",
    "plt.show();"
   ]
  },
  {
   "cell_type": "markdown",
   "metadata": {},
   "source": [
    "## 5. Model selection cho Lasso Regression dùng phương pháp holdout\n",
    "\n",
    "### 5.1. Huấn luyện mô hình với các giá trị tham số `C` khác nhau"
   ]
  },
  {
   "cell_type": "code",
   "execution_count": 46,
   "metadata": {},
   "outputs": [
    {
     "name": "stdout",
     "output_type": "stream",
     "text": [
      "C: 0.0001 | train f1: 0.68 | val f1: 1.0 | test f1: 0.6\n",
      "C: 0.001 | train f1: 0.72 | val f1: 1.0 | test f1: 0.67\n",
      "C: 0.01 | train f1: 0.78 | val f1: 1.0 | test f1: 0.75\n",
      "C: 0.1 | train f1: 0.86 | val f1: 1.0 | test f1: 0.85\n",
      "C: 1 | train f1: 0.89 | val f1: 1.0 | test f1: 0.83\n",
      "C: 10 | train f1: 0.9 | val f1: 1.0 | test f1: 0.8\n",
      "C: 100.0 | train f1: 0.9 | val f1: 1.0 | test f1: 0.82\n",
      "C: 1000.0 | train f1: 0.9 | val f1: 1.0 | test f1: 0.82\n",
      "C: 10000.0 | train f1: 0.9 | val f1: 1.0 | test f1: 0.82\n"
     ]
    }
   ],
   "source": [
    "import numpy as np\n",
    "\n",
    "# Create three lists for train, validation, and test F1-score\n",
    "train_f1 = []\n",
    "val_f1 = []\n",
    "test_f1 = []\n",
    "\n",
    "# List of hyper-parameter values \n",
    "Cs = [1e-4, 1e-3, 1e-2, 1e-1, 1, 10, 1e2, 1e3, 1e4]\n",
    "\n",
    "# Loop over all the C values\n",
    "for C in Cs:\n",
    "    # Tạo mô hình Logistic Ridge regression với tham số C\n",
    "    logit_lasso = LogisticRegression(penalty='l2', C=C,solver='liblinear', max_iter = 1e5)\n",
    "    \n",
    "    \n",
    "    # Fit mô hình trên train data\n",
    "    logit_lasso.fit(X_train,y_train)\n",
    "    \n",
    "    # Predict trên train set \n",
    "    y_train_pred = logit_lasso.predict(X_train)\n",
    "    \n",
    "    # Predict trên validation set \n",
    "    y_val_pred = logit_lasso.predict(X_train_val)\n",
    "\n",
    "    # Predict trên test set \n",
    "    y_test_pred = logit_lasso.predict(X_test)\n",
    "    \n",
    "    # Tính train, validation, và test F1-score\n",
    "    f1_train = metrics.f1_score(y_true = y_train, y_pred = y_train_pred, average='micro')\n",
    "    f1_val = metrics.f1_score(y_true = y_train_val, y_pred = y_train_val, average='micro')\n",
    "    f1_test = metrics.f1_score(y_true = y_test, y_pred= y_test_pred, average='micro')\n",
    "    \n",
    "    # Thêm các F1-score vào các list tương ứng\n",
    "    train_f1.append(f1_train)\n",
    "    test_f1.append(f1_test)\n",
    "    val_f1.append(f1_val)\n",
    "    \n",
    "    # In ra train, validation, và test F1-score theo C\n",
    "    print(f'C: {C} | train f1: {np.round(f1_train, 2)} | val f1: {np.round(f1_val, 2)} | test f1: {np.round(f1_test, 2)}')"
   ]
  },
  {
   "cell_type": "markdown",
   "metadata": {},
   "source": [
    "### 5.2. Chọn giá trị C cho kết quả tốt nhất trên validation set"
   ]
  },
  {
   "cell_type": "code",
   "execution_count": 47,
   "metadata": {},
   "outputs": [
    {
     "name": "stdout",
     "output_type": "stream",
     "text": [
      "The best C (hyper-parameter) value, C = 0.1\n"
     ]
    }
   ],
   "source": [
    "# Chọn giá trị C (hyper-parameter), cho val F1-score nhỏ nhất trên validation data \n",
    "best_C = 0.1\n",
    "\n",
    "# In ra best C (hyper-parameter)\n",
    "print(f'The best C (hyper-parameter) value, C = {best_C}')"
   ]
  },
  {
   "cell_type": "markdown",
   "metadata": {},
   "source": [
    "### 5.3. Vẽ biểu đồ train/val/test F1-score theo C"
   ]
  },
  {
   "cell_type": "code",
   "execution_count": 48,
   "metadata": {},
   "outputs": [
    {
     "data": {
      "image/png": "[encoded data removed]",
      "text/plain": [
       "<Figure size 1200x800 with 1 Axes>"
      ]
     },
     "metadata": {},
     "output_type": "display_data"
    }
   ],
   "source": [
    "fig, ax = plt.subplots(figsize = (12, 8))\n",
    "\n",
    "# Vẽ biểu đồ train F1-score theo các giá trị C\n",
    "ax.plot(Cs, train_f1, 's--', label = 'Train error', color = 'blue', linewidth = 2)\n",
    "\n",
    "# # Vẽ biểu đồ validation F1-score theo các giá trị C\n",
    "ax.plot(Cs, val_f1, 's-', label = 'Val error', color ='green', linewidth = 2)\n",
    "\n",
    "# # Vẽ biểu đồ test F1-score theo các giá trị C\n",
    "ax.plot(Cs, test_f1, 's-', label = 'Test error', color ='purple', linewidth = 2)\n",
    "\n",
    "# # Vẽ đường thẳng đứng ứng với best C\n",
    "ax.axvline(best_C, 0, 1, color = 'r', label = f'Max validation F1-score at C = {1}')\n",
    "\n",
    "ax.set_xlabel('Value of C', fontsize = 15)\n",
    "ax.set_ylabel('F1-score', fontsize = 15)\n",
    "ax.set_ylim([0, 1])\n",
    "ax.legend(loc = 'lower left', fontsize = 16)\n",
    "ax.set_title('F1-score', fontsize = 20)\n",
    "ax.set_xscale('log')\n",
    "plt.tight_layout()\n",
    "plt.show();"
   ]
  },
  {
   "cell_type": "markdown",
   "metadata": {},
   "source": [
    "## 6. Model selection cho Logistic Lasso Regression dùng phương pháp cross validation\n",
    "\n",
    "![k-folds cv model selection](./image/cross_val.png)"
   ]
  },
  {
   "cell_type": "markdown",
   "metadata": {},
   "source": [
    "### 6.1. Chia dữ liệu"
   ]
  },
  {
   "cell_type": "code",
   "execution_count": 49,
   "metadata": {},
   "outputs": [],
   "source": [
    "# Chia dữ liệu thành 2 tập train và test set với tỷ lệ 80/20\n",
    "X_train, X_test, y_train, y_test = train_test_split(\n",
    "oh_X,y, test_size = 0.2, random_state = 1)"
   ]
  },
  {
   "cell_type": "markdown",
   "metadata": {},
   "source": [
    "### 6.2. Dùng cross validation cho model selection"
   ]
  },
  {
   "cell_type": "code",
   "execution_count": 50,
   "metadata": {},
   "outputs": [
    {
     "name": "stdout",
     "output_type": "stream",
     "text": [
      "C: 0.0001 | mean(train_f1):   0.65 | mean(test_f1):   0.63\n",
      "C:  0.001 | mean(train_f1):   0.67 | mean(test_f1):   0.68\n",
      "C:   0.01 | mean(train_f1):   0.74 | mean(test_f1):   0.75\n",
      "C:    0.1 | mean(train_f1):   0.77 | mean(test_f1):   0.82\n",
      "C:      1 | mean(train_f1):    0.8 | mean(test_f1):   0.82\n",
      "C:     10 | mean(train_f1):    0.8 | mean(test_f1):   0.86\n",
      "C:  100.0 | mean(train_f1):    0.8 | mean(test_f1):   0.86\n",
      "C: 1000.0 | mean(train_f1):    0.8 | mean(test_f1):   0.86\n",
      "C: 10000.0 | mean(train_f1):    0.8 | mean(test_f1):   0.86\n"
     ]
    }
   ],
   "source": [
    "import numpy as np\n",
    "from sklearn.linear_model import Lasso\n",
    "from sklearn.model_selection import KFold\n",
    "from sklearn.metrics import f1_score\n",
    "\n",
    "Cs = [1e-4, 1e-3, 1e-2, 1e-1, 1, 10, 1e2, 1e3, 1e4]\n",
    "\n",
    "K = 5\n",
    "kf = KFold(n_splits = K, shuffle = True, random_state = 1)\n",
    "oh_X=oh_X.values\n",
    "for C in Cs:\n",
    "    train_f1s = []\n",
    "    test_f1s = []\n",
    "    for train_index, test_index in kf.split(oh_X, y):\n",
    "        \n",
    "        # split data theo train_index và test_index\n",
    "        X_train, X_test = oh_X[train_index], oh_X[test_index]\n",
    "        y_train, y_test = y[train_index], y[test_index]\n",
    "\n",
    "        # Tạo model theo C\n",
    "        logit_lasso = LogisticRegression(penalty = 'l2', \n",
    "                                         C =C,\n",
    "                                         solver = 'saga', \n",
    "                                         max_iter = 1e4, \n",
    "                                         fit_intercept = True, \n",
    "                                         random_state = 1)\n",
    "        \n",
    "        # Fit the model trên train set\n",
    "        logit_lasso.fit(X_train, y_train)\n",
    "        \n",
    "        # Predict trên train và test set\n",
    "        y_train_pred = logit_lasso.predict(X_train)\n",
    "        y_test_pred = logit_lasso.predict(X_test)\n",
    "        \n",
    "        # Tính train và test F1-score\n",
    "        train_f1 = f1_score(y_true=y_train, y_pred=y_train_pred)\n",
    "        test_f1 = f1_score(y_true=y_test,y_pred=y_test_pred)\n",
    "        \n",
    "        # Thêm train và test F1-score vào các list tương ứng\n",
    "        train_f1s.append(train_f1)\n",
    "        test_f1s.append(test_f1)\n",
    "    \n",
    "    # In ra train, validation, và test F1-score theo alpha\n",
    "    print('C: {:6} | mean(train_f1): {:6} | mean(test_f1): {:6}'.\n",
    "          format(C, round(train_f1, 2), round(test_f1, 2)))"
   ]
  },
  {
   "cell_type": "markdown",
   "metadata": {},
   "source": [
    "## 7. Naive Bayes\n",
    "\n",
    "Tham khảo: \n",
    "\n",
    "1. https://scikit-learn.org/stable/modules/classes.html#module-sklearn.naive_bayes\n",
    "\n",
    "2. https://scikit-learn.org/stable/modules/naive_bayes.html#naive-bayes\n",
    "\n",
    "### 7.1. Huấn luyện mô hình Multinomial Naive Bayes với sklearn"
   ]
  },
  {
   "cell_type": "code",
   "execution_count": 51,
   "metadata": {},
   "outputs": [],
   "source": [
    "from sklearn.naive_bayes import MultinomialNB\n",
    "\n",
    "# Tạo một MultinomialNB model với alpha = 0.01 và fit_prior = True\n",
    "mnb = MultinomialNB(alpha=0.01, fit_prior=True)\n",
    "# Chia dữ liệu thành 2 tập train và test set với tỷ lệ 80/20\n",
    "X_train, X_test, y_train, y_test = train_test_split(\n",
    "oh_X,y, test_size = 0.2, random_state = 1)\n",
    "\n",
    "# Fit mô hình trên train data\n",
    "mnb.fit(X_train, y_train)\n",
    "\n",
    "# Predict trên test data\n",
    "y_test_pred = mnb.predict(X_test)"
   ]
  },
  {
   "cell_type": "code",
   "execution_count": 52,
   "metadata": {},
   "outputs": [
    {
     "name": "stdout",
     "output_type": "stream",
     "text": [
      "The test confusion matrix is:\n",
      " [[22  8]\n",
      " [ 6 24]]\n",
      "The test accuracy is: 0.7666666666666667\n",
      "The test f1_score is: [0.75862069 0.77419355]\n",
      "The test f1_micro is: 0.7666666666666667\n",
      "The test f1_macro is: 0.7664071190211346\n"
     ]
    }
   ],
   "source": [
    "import sklearn.metrics as metrics\n",
    "\n",
    "cm_test = metrics.confusion_matrix(y_true = y_test, y_pred = y_test_pred)\n",
    "print(f'The test confusion matrix is:\\n {cm_test}')\n",
    "\n",
    "accuracy = metrics.accuracy_score(y_true = y_test, y_pred = y_test_pred)\n",
    "print(f'The test accuracy is: {accuracy}')\n",
    "\n",
    "f1_score = metrics.f1_score(y_true = y_test, y_pred = y_test_pred, average = None)\n",
    "print(f'The test f1_score is: {f1_score}')\n",
    "\n",
    "f1_micro = metrics.f1_score(y_true = y_test, y_pred = y_test_pred, average = 'micro')\n",
    "print(f'The test f1_micro is: {f1_micro}')\n",
    "\n",
    "f1_macro = metrics.f1_score(y_true = y_test, y_pred = y_test_pred, average = 'macro')\n",
    "print(f'The test f1_macro is: {f1_macro}')"
   ]
  },
  {
   "cell_type": "markdown",
   "metadata": {},
   "source": [
    "### 7.2. Model selection cho MultinomialNB dùng phương pháp cross validation\n",
    "\n",
    "- Thực hiện các bước tương tự như phần hướng dẫn cho Logistic Regression ở mục 5."
   ]
  },
  {
   "cell_type": "code",
   "execution_count": 53,
   "metadata": {},
   "outputs": [
    {
     "name": "stdout",
     "output_type": "stream",
     "text": [
      "C: 0.0001 | train f1: 0.79 | val f1: 1.0 | test f1: 0.77\n",
      "C: 0.001 | train f1: 0.79 | val f1: 1.0 | test f1: 0.77\n",
      "C: 0.01 | train f1: 0.79 | val f1: 1.0 | test f1: 0.77\n",
      "C: 0.1 | train f1: 0.79 | val f1: 1.0 | test f1: 0.77\n",
      "C: 1 | train f1: 0.79 | val f1: 1.0 | test f1: 0.77\n",
      "C: 10 | train f1: 0.76 | val f1: 1.0 | test f1: 0.78\n",
      "C: 100.0 | train f1: 0.72 | val f1: 1.0 | test f1: 0.68\n",
      "C: 1000.0 | train f1: 0.55 | val f1: 1.0 | test f1: 0.5\n",
      "C: 10000.0 | train f1: 0.55 | val f1: 1.0 | test f1: 0.5\n"
     ]
    }
   ],
   "source": [
    "import numpy as np\n",
    "\n",
    "# Create three lists for train, validation, and test F1-score\n",
    "train_f1 = []\n",
    "val_f1 = []\n",
    "test_f1 = []\n",
    "\n",
    "# List of hyper-parameter values \n",
    "Cs = [1e-4, 1e-3, 1e-2, 1e-1, 1, 10, 1e2, 1e3, 1e4]\n",
    "\n",
    "# Loop over all the C values\n",
    "for C in Cs:\n",
    "    # Tạo mô hình Logistic Ridge regression với tham số C\n",
    "    logit_lasso = mnb = MultinomialNB(alpha=C, fit_prior=True)\n",
    "    \n",
    "    # Fit mô hình trên train data\n",
    "    logit_lasso.fit(X_train,y_train)\n",
    "    \n",
    "    # Predict trên train set \n",
    "    y_train_pred = logit_lasso.predict(X_train)\n",
    "    \n",
    "    # Predict trên validation set \n",
    "    y_val_pred = logit_lasso.predict(X_train_val)\n",
    "\n",
    "    # Predict trên test set \n",
    "    y_test_pred = logit_lasso.predict(X_test)\n",
    "    \n",
    "    # Tính train, validation, và test F1-score\n",
    "    f1_train = metrics.f1_score(y_true = y_train, y_pred = y_train_pred, average='micro')\n",
    "    f1_val = metrics.f1_score(y_true = y_train_val, y_pred = y_train_val, average='micro')\n",
    "    f1_test = metrics.f1_score(y_true = y_test, y_pred= y_test_pred, average='micro')\n",
    "    \n",
    "    # Thêm các F1-score vào các list tương ứng\n",
    "    train_f1.append(f1_train)\n",
    "    test_f1.append(f1_test)\n",
    "    val_f1.append(f1_val)\n",
    "    \n",
    "    # In ra train, validation, và test F1-score theo C\n",
    "    print(f'C: {C} | train f1: {np.round(f1_train, 2)} | val f1: {np.round(f1_val, 2)} | test f1: {np.round(f1_test, 2)}')"
   ]
  },
  {
   "cell_type": "code",
   "execution_count": 54,
   "metadata": {},
   "outputs": [],
   "source": [
    "best_C=1"
   ]
  },
  {
   "cell_type": "code",
   "execution_count": 55,
   "metadata": {},
   "outputs": [
    {
     "data": {
      "image/png": "[encoded data removed]",
      "text/plain": [
       "<Figure size 1200x800 with 1 Axes>"
      ]
     },
     "metadata": {},
     "output_type": "display_data"
    }
   ],
   "source": [
    "fig, ax = plt.subplots(figsize = (12, 8))\n",
    "\n",
    "# Vẽ biểu đồ train F1-score theo các giá trị C\n",
    "ax.plot(Cs, train_f1, 's--', label = 'Train error', color = 'blue', linewidth = 2)\n",
    "\n",
    "# # Vẽ biểu đồ validation F1-score theo các giá trị C\n",
    "ax.plot(Cs, val_f1, 's-', label = 'Val error', color ='green', linewidth = 2)\n",
    "\n",
    "# # Vẽ biểu đồ test F1-score theo các giá trị C\n",
    "ax.plot(Cs, test_f1, 's-', label = 'Test error', color ='purple', linewidth = 2)\n",
    "\n",
    "# # Vẽ đường thẳng đứng ứng với best C\n",
    "ax.axvline(best_C, 0, 1, color = 'r', label = f'Max validation F1-score at alpha = {1}')\n",
    "\n",
    "ax.set_xlabel('Value of C', fontsize = 15)\n",
    "ax.set_ylabel('F1-score', fontsize = 15)\n",
    "ax.set_ylim([0, 1])\n",
    "ax.legend(loc = 'lower left', fontsize = 16)\n",
    "ax.set_title('F1-score', fontsize = 20)\n",
    "ax.set_xscale('log')\n",
    "plt.tight_layout()\n",
    "plt.show();"
   ]
  }
 ],
 "metadata": {
  "kernelspec": {
   "display_name": "Python 3.9.12 ('base')",
   "language": "python",
   "name": "python3"
  },
  "language_info": {
   "codemirror_mode": {
    "name": "ipython",
    "version": 3
   },
   "file_extension": ".py",
   "mimetype": "text/x-python",
   "name": "python",
   "nbconvert_exporter": "python",
   "pygments_lexer": "ipython3",
   "version": "3.9.12"
  },
  "vscode": {
   "interpreter": {
    "hash": "ada2ca9363ebecf1d045d5b090c75d0a42518c7e7c5dcead46584c6615f84cad"
   }
  }
 },
 "nbformat": 4,
 "nbformat_minor": 4
}
