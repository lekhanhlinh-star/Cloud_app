{
 "cells": [
  {
   "cell_type": "markdown",
   "metadata": {},
   "source": [
    "# Lab 4 - Classification\n",
    "\n",
    "\n",
    "- Your name: \n",
    "\n",
    "- Your student code: "
   ]
  },
  {
   "cell_type": "markdown",
   "metadata": {},
   "source": [
    "## 1. Tạo một Simple Logistic Regression với thư viện scikit-learn\n",
    "\n",
    "Ở phần này, bạn sẽ thực hiện một số công việc sau:\n",
    "\n",
    "- Đọc và load dữ liệu từ file với hàm `pd.read_csv()` của thư viện `pandas`\n",
    "- Chia dữ liệu thành train set và test set dùng hàm `train_test_split()` từ thư viện `sklearn`\n",
    "- Dùng hàm `LogisticRegression` từ thư viện `sklearn` để tạo mô hình hồi quy tuyến tính \n",
    "- Fit mô hình trên train set với hàm `fit()`\n",
    "- Predict trên test set dùng mô hình đã huấn luyện được\n",
    "- Tính Confusion Matrix (CM) và các độ đo Accuraccy, F1-score dùng hàm `confusion_matrix()`, `accuracy()` và  `f1_score()` từ thư viện `sklearn`\n",
    "- Vẽ biểu đồ các điểm dữ liệu cùng với các dự đoán của mô hình dùng thư viện `matplotlib`\n",
    "\n",
    "Bên dưới là các đường link để bạn tham khảo thêm về các hàm đã đề cập ở trên.\n",
    "\n",
    "- [pd.read_csv(filename)](https://pandas.pydata.org/pandas-docs/stable/reference/api/pandas.read_csv.html): Trả về một pandas dataframe chứa từ file dữ liệu\n",
    "- [sklearn.train_test_split()](https://scikit-learn.org/stable/modules/generated/sklearn.model_selection.train_test_split.html): Tách dữ liệu (ngẫu nhiên) thành tập train và test \n",
    "- [sklearn.LinearRegression()](https://scikit-learn.org/stable/modules/generated/sklearn.linear_model.LinearRegression.html): Khởi tạo một linear model\n",
    "- [LogisticRegression.fit()](https://scikit-learn.org/stable/modules/generated/sklearn.linear_model.LogisticRegression.html#sklearn.linear_model.LogisticRegression.fit): Fit một linear model trên train data\n",
    "- [LogisticRegression.predict()](https://scikit-learn.org/stable/modules/generated/sklearn.linear_model.LogisticRegression.html#sklearn.linear_model.LogisticRegression.predict): Predict dùng linear model đã tạo\n",
    "- [confusion_matrix()](https://scikit-learn.org/stable/modules/generated/sklearn.metrics.confusion_matrix.html#sklearn.metrics.confusion_matrix): Tính confution_matrix (CM)\n",
    "- [f1_score()](https://scikit-learn.org/stable/modules/generated/sklearn.metrics.f1_score.html#sklearn.metrics.f1_score): Tính F1-score\n",
    "- [plt.plot()](https://matplotlib.org/stable/api/_as_gen/matplotlib.pyplot.plot.html): Vẽ biểu đồ"
   ]
  },
  {
   "cell_type": "markdown",
   "metadata": {},
   "source": [
    "### 1.1. Tìm hiểu tổng quan về dữ liệu\n",
    "\n",
    "Phần này sẽ dùng tập dữ liệu `HeartDisease.csv` để minh họa. Chi tiết về tập dữ liệu có thể được tham khảo ở https://archive.ics.uci.edu/ml/datasets/heart+Disease.\n",
    "\n",
    "#### 1.1.1. Load dữ liệu"
   ]
  },
  {
   "cell_type": "code",
   "execution_count": null,
   "metadata": {},
   "outputs": [],
   "source": [
    "import pandas as pd\n",
    "\n",
    "# Đọc dữ liệu từ \"HeartDisease.csv\"\n",
    "heart = pd.read_csv('./data/HeartDisease.csv')"
   ]
  },
  {
   "cell_type": "markdown",
   "metadata": {},
   "source": [
    "#### 1.1.2. Khám phá tổng quan về dữ liệu"
   ]
  },
  {
   "cell_type": "code",
   "execution_count": null,
   "metadata": {},
   "outputs": [],
   "source": [
    "heart.head()"
   ]
  },
  {
   "cell_type": "code",
   "execution_count": null,
   "metadata": {},
   "outputs": [],
   "source": [
    "# Gán biến `AHD`, là `y`\n",
    "y = heart[___]\n",
    "\n",
    "# Gán biến `Age` là `X`\n",
    "X = heart[___]"
   ]
  },
  {
   "cell_type": "code",
   "execution_count": null,
   "metadata": {},
   "outputs": [],
   "source": [
    "# Chuyển biến `y` sang dạng nhị phân (`AHD` == 'Yes' ứng với 1 và AHD'] == 'No' ứng với 0)\n",
    "y = 1 * (heart['AHD'] == 'Yes')\n",
    "y"
   ]
  },
  {
   "cell_type": "markdown",
   "metadata": {},
   "source": [
    "### 1.2. Chia dữ liệu\n",
    "\n",
    "Ta sẽ chia dữ liệu làm 2 tập train và test với tỷ lệ 80/20."
   ]
  },
  {
   "cell_type": "code",
   "execution_count": null,
   "metadata": {},
   "outputs": [],
   "source": [
    "from sklearn.model_selection import train_test_split\n",
    "\n",
    "X_train, X_test, y_train, y_test = train_test_split(\n",
    "    ___, ___, test_size = ___, random_state = 1)\n",
    "\n",
    "print('Labels counts in y:', len(y))\n",
    "print('Labels counts in y_train:', len(y_train))\n",
    "print('Labels counts in y_test:', len(y_test))"
   ]
  },
  {
   "cell_type": "markdown",
   "metadata": {},
   "source": [
    "### 1.3. Fit mô hình"
   ]
  },
  {
   "cell_type": "code",
   "execution_count": null,
   "metadata": {},
   "outputs": [],
   "source": [
    "from sklearn.linear_model import LogisticRegression\n",
    "from sklearn.model_selection import train_test_split\n",
    "\n",
    "# Tạo mô hình Logistic Regression dùng sklearn không dùng penalty\n",
    "logit = LogisticRegression(penalty = ___, max_iter = 1e5, random_state = 1)\n",
    "\n",
    "# Fit mô hình với train data\n",
    "___.fit(___, ___)\n",
    "\n",
    "# Predict trên test data dùng mô hình đã train\n",
    "y_pred_test = ___.predict(X_test)\n",
    "y_pred_test"
   ]
  },
  {
   "cell_type": "markdown",
   "metadata": {},
   "source": [
    "### 1.4. Đánh giá mô hình\n",
    "\n",
    "Ta sẽ đánh giá mô hình dùng confusion matrix (CM) và các độ đo accuracy, f1_score, f1_micro, f1_macro."
   ]
  },
  {
   "cell_type": "code",
   "execution_count": null,
   "metadata": {},
   "outputs": [],
   "source": [
    "import sklearn.metrics as metrics\n",
    "\n",
    "cm_test = metrics.confusion_matrix(y_true = ___, y_pred = ___)\n",
    "print(f'The test confusion matrix is:\\n {___}')\n",
    "\n",
    "accuracy = metrics.accuracy_score(y_true = ___, y_pred = ___)\n",
    "print(f'The test accuracy is: {accuracy}')\n",
    "\n",
    "f1_score = metrics.f1_score(y_true = ___, y_pred = ___, average = ___)\n",
    "print(f'The test f1_score is: {f1_score}')\n",
    "\n",
    "f1_micro = metrics.f1_score(y_true = ___, y_pred = ___, average = ___)\n",
    "print(f'The test f1_micro is: {f1_micro}')\n",
    "\n",
    "f1_macro = metrics.f1_score(y_true = ___, y_pred = ___, average = ___)\n",
    "print(f'The test f1_macro is: {f1_macro}')"
   ]
  },
  {
   "cell_type": "markdown",
   "metadata": {},
   "source": [
    "### 1.5. Trực quan hóa kết quả"
   ]
  },
  {
   "cell_type": "code",
   "execution_count": null,
   "metadata": {},
   "outputs": [],
   "source": [
    "import numpy as np\n",
    "import matplotlib.pyplot as plt\n",
    "\n",
    "x = np.linspace(np.min(X) - 10, np.max(X) + 10, 200)\n",
    "\n",
    "yhat_class_logit = ___.predict(x)\n",
    "yhat_prob_logit = ___.predict_proba(x)[:, 1]\n",
    "\n",
    "# plot the observed data\n",
    "plt.plot(___, ___, 'o', alpha = 0.1, label = 'Train Data')\n",
    "plt.plot(___, 0.94 * ___ + 0.03, 'o', alpha = 0.1, label = 'Test Data')\n",
    "\n",
    "# plot the predictions\n",
    "plt.plot(___, ___, label = 'logit Classifications')\n",
    "plt.plot(___, ___, label = 'logit Probabilities')\n",
    "\n",
    "# put the lower-left part of the legend 5% to the right along the x-axis, and 45% up along the y-axis\n",
    "plt.legend(loc = (0.05, 0.45))\n",
    "\n",
    "# Don't forget your axis labels!\n",
    "plt.xlabel(\"Age\")\n",
    "plt.ylabel(\"Heart disease (AHD)\")\n",
    "\n",
    "plt.show()"
   ]
  },
  {
   "cell_type": "markdown",
   "metadata": {},
   "source": [
    "### 1.6. Thay đổi `test_size`\n",
    "\n",
    "Nếu ở phần chia dữ liệu, bạn thay đổi tham số `test_size = 0.3` thì accuracy và f1_score sẽ thay đổi như thế nào?"
   ]
  },
  {
   "cell_type": "code",
   "execution_count": null,
   "metadata": {},
   "outputs": [],
   "source": [
    "# Your answers\n",
    "\n",
    "accuracy = '___'\n",
    "f1_score = '___'"
   ]
  },
  {
   "cell_type": "markdown",
   "metadata": {},
   "source": [
    "## 2. Tạo một mô hình Logistic Regression khác với thư viện scikit-learn"
   ]
  },
  {
   "cell_type": "code",
   "execution_count": null,
   "metadata": {},
   "outputs": [],
   "source": [
    "# Gán tập gồm các biến 'Age','Sex','MaxHR','RestBP','Chol' là `X`\n",
    "features = ___\n",
    "X = heart[features]"
   ]
  },
  {
   "cell_type": "markdown",
   "metadata": {},
   "source": [
    "### 1.2. Chia dữ liệu\n",
    "\n",
    "Ta sẽ chia dữ liệu làm 2 tập train và test với tỷ lệ 70/30."
   ]
  },
  {
   "cell_type": "code",
   "execution_count": null,
   "metadata": {},
   "outputs": [],
   "source": [
    "from sklearn.model_selection import train_test_split\n",
    "\n",
    "X_train, X_test, y_train, y_test = train_test_split(\n",
    "    ___, ___, test_size = ___, random_state = 1)\n",
    "\n",
    "print('Labels counts in y:', len(y))\n",
    "print('Labels counts in y_train:', len(y_train))\n",
    "print('Labels counts in y_test:', len(y_test))"
   ]
  },
  {
   "cell_type": "markdown",
   "metadata": {},
   "source": [
    "### 2.2. Huấn luyện mô hình\n",
    "\n",
    "Ta sẽ train 2 mô hình logistic, một mô hình với l2 penalty và một mô hình với no penalty."
   ]
  },
  {
   "cell_type": "code",
   "execution_count": null,
   "metadata": {},
   "outputs": [],
   "source": [
    "logit = LogisticRegression(___, max_iter = 1e5).fit(___, ___)\n",
    "logit_ridge = LogisticRegression(___, C = 0.01, max_iter = 1e5).fit(___, ___)"
   ]
  },
  {
   "cell_type": "markdown",
   "metadata": {},
   "source": [
    "### 2.3. Dự đoán và đánh giá các mô hình"
   ]
  },
  {
   "cell_type": "code",
   "execution_count": null,
   "metadata": {},
   "outputs": [],
   "source": [
    "# Dự đoán xác xuất và nhãn dựa trên threshold = 0.5 cho test data\n",
    "y_pred_logit = ___.predict_proba(___)[:, 1]\n",
    "y_pred_logit_ridge = ___.predict_proba(___)[:, 1]\n",
    "\n",
    "threshold = 0.5\n",
    "\n",
    "# In ra các confusion matrix\n",
    "print('The test confusion matrix for logit when cut-off is', threshold, ': \\n',\n",
    "      metrics.confusion_matrix(___, y_pred_logit > threshold))\n",
    "print('The test confusion matrix for logit_ridge when cut-off is', threshold, ': \\n',\n",
    "      metrics.confusion_matrix(___, y_pred_logit_ridge > threshold))"
   ]
  },
  {
   "cell_type": "markdown",
   "metadata": {},
   "source": [
    "### 2.4. Trực quan hóa kết quả\n",
    "\n",
    "Ta sẽ dùng ROC curve để trực quan hóa kết quả của các mô hình."
   ]
  },
  {
   "cell_type": "code",
   "execution_count": null,
   "metadata": {},
   "outputs": [],
   "source": [
    "fpr, tpr, thresholds = metrics.roc_curve(___, ___)\n",
    "fpr_ridge, tpr_ridge, thresholds_ridge = metrics.roc_curve(___, ___)\n",
    "\n",
    "x = np.arange(0, 100) / 100\n",
    "plt.plot(x, x, '--', color = \"gray\", alpha = 0.3)\n",
    "plt.plot(___, ___, label = \"logit\")\n",
    "plt.plot(___, ___, label = \"logit_ridge\")\n",
    "plt.ylabel(\"True Positive Rate\")\n",
    "plt.xlabel(\"False Positive Rate\")\n",
    "plt.title(\"ROC Curve for Predicting AHD in a Logistic Regression Model\")\n",
    "plt.legend()\n",
    "plt.show()"
   ]
  },
  {
   "cell_type": "code",
   "execution_count": null,
   "metadata": {},
   "outputs": [],
   "source": [
    "# In ra AUC scores\n",
    "auc_logit = metrics.roc_auc_score(y_test, y_pred_logit)\n",
    "auc_logit_ridge = metrics.roc_auc_score(y_test, y_pred_logit_ridge)\n",
    "print(\"auc_logit = \", auc_logit)\n",
    "print(\"auc_logit_ridge = \", auc_logit_ridge)"
   ]
  },
  {
   "cell_type": "markdown",
   "metadata": {},
   "source": [
    "## 3. Regularization với Ridge, Lasso, và ElasticNet"
   ]
  },
  {
   "cell_type": "markdown",
   "metadata": {},
   "source": [
    "### 3.2. Chọn `ADH` là output, tất cả các biến còn lại là input"
   ]
  },
  {
   "cell_type": "code",
   "execution_count": null,
   "metadata": {},
   "outputs": [],
   "source": [
    "heart_dropna = heart.dropna()"
   ]
  },
  {
   "cell_type": "code",
   "execution_count": null,
   "metadata": {},
   "outputs": [],
   "source": [
    "import pandas as pd\n",
    "from sklearn.preprocessing import OneHotEncoder\n",
    "from sklearn.compose import make_column_transformer\n",
    "\n",
    "# Chọn biến `ADH` là ouput (chuyển sang dạng nhị phân 0/1), các biến còn lại là input\n",
    "X = ___\n",
    "y = ___\n",
    "\n",
    "# Categorical features\n",
    "cat_features = ['ChestPain', 'Thal']\n",
    "\n",
    "# Mã hóa (encode) các cột categorical thành dạng one-hot\n",
    "oh_encoder = OneHotEncoder(handle_unknown = 'ignore', sparse = False)\n",
    "oh_cols = pd.DataFrame(oh_encoder.fit_transform(X[___]))\n",
    "\n",
    "# One-hot encoding removed index; put it back\n",
    "oh_cols.index = X.index\n",
    "\n",
    "# Remove categorical columns (will replace with one-hot encoding)\n",
    "num_cols = X.drop(___, axis = 1)\n",
    "\n",
    "# Add one-hot encoded columns to numerical columns\n",
    "oh_X = pd.concat([___, ___], axis = 1)\n",
    "\n",
    "oh_X.head()"
   ]
  },
  {
   "cell_type": "code",
   "execution_count": null,
   "metadata": {},
   "outputs": [],
   "source": [
    "len(y)"
   ]
  },
  {
   "cell_type": "markdown",
   "metadata": {},
   "source": [
    "### 3.3. Tách dữ liệu thành train và test set\n",
    "\n",
    "Tách dữ liệu thành train và test set với tỷ lệ 80/20 trên dữ liệu sau khi đã encode các biến categorical."
   ]
  },
  {
   "cell_type": "code",
   "execution_count": null,
   "metadata": {},
   "outputs": [],
   "source": [
    "X_train, X_test, y_train, y_test = train_test_split(\n",
    "    ___, ___, test_size = ___, random_state = 1)"
   ]
  },
  {
   "cell_type": "code",
   "execution_count": null,
   "metadata": {},
   "outputs": [],
   "source": [
    "print(len(y_test))"
   ]
  },
  {
   "cell_type": "code",
   "execution_count": null,
   "metadata": {},
   "outputs": [],
   "source": [
    "print(len(y_train))"
   ]
  },
  {
   "cell_type": "markdown",
   "metadata": {},
   "source": [
    "### 3.4. Áp dụng mô hình Logistic Regression dùng thư viện scikit-learn"
   ]
  },
  {
   "cell_type": "code",
   "execution_count": null,
   "metadata": {},
   "outputs": [],
   "source": [
    "# Khởi tạo một Linear Regression model\n",
    "logit = LogisticRegression(penalty = ___, max_iter = 1e4)\n",
    "\n",
    "# Fit model trên train data\n",
    "___.fit(___, ___)\n",
    "\n",
    "# Predict trên test data\n",
    "y_test_pred = ___.predict(___)"
   ]
  },
  {
   "cell_type": "markdown",
   "metadata": {},
   "source": [
    "### 3.5. Đánh giá mô hình"
   ]
  },
  {
   "cell_type": "code",
   "execution_count": null,
   "metadata": {},
   "outputs": [],
   "source": [
    "import sklearn.metrics as metrics\n",
    "\n",
    "cm_test = metrics.confusion_matrix(y_true = ___, y_pred = ___)\n",
    "print(f'The test confusion matrix is:\\n {___}')\n",
    "\n",
    "accuracy = metrics.accuracy_score(y_true = ___, y_pred = ___)\n",
    "print(f'The test accuracy is: {___}')\n",
    "\n",
    "f1_score = metrics.f1_score(y_true = ___, y_pred = ___, average = ___)\n",
    "print(f'The test f1_score is: {___}')\n",
    "\n",
    "f1_micro = metrics.f1_score(y_true = ___, y_pred = ___, average = ___)\n",
    "print(f'The test f1_micro is: {___}')\n",
    "\n",
    "f1_macro = metrics.f1_score(y_true = ___, y_pred = ___, average = ___)\n",
    "print(f'The test f1_macro is: {___}')"
   ]
  },
  {
   "cell_type": "markdown",
   "metadata": {},
   "source": [
    "### 3.6. In ra các hệ số của Linear Regression model"
   ]
  },
  {
   "cell_type": "code",
   "execution_count": null,
   "metadata": {},
   "outputs": [],
   "source": [
    "import numpy as np\n",
    "\n",
    "# Tạo một dictionary cho các coefficient với tên biến là các key\n",
    "logit_coef = dict(zip(X.columns, np.transpose(___.coef_[0])))\n",
    "logit_coef"
   ]
  },
  {
   "cell_type": "code",
   "execution_count": null,
   "metadata": {},
   "outputs": [],
   "source": [
    "# Linear regression coefficients\n",
    "logit_x = list(___.keys())\n",
    "logit_y = list(___.values())"
   ]
  },
  {
   "cell_type": "markdown",
   "metadata": {},
   "source": [
    "### 3.7. Dùng mô hình Logistic Ridge Regression"
   ]
  },
  {
   "cell_type": "code",
   "execution_count": null,
   "metadata": {},
   "outputs": [],
   "source": [
    "from sklearn.linear_model import LogisticRegression\n",
    "\n",
    "# Tạo một Logistic Ridge Regression model (penalty = 'l2') với C = 0.1\n",
    "logit_ridge = LogisticRegression(penalty = ___, C = ___, max_iter = 1e5)\n",
    "\n",
    "# Fit mô hình trên train data\n",
    "___.fit(___, ___)\n",
    "\n",
    "# Predict trên test data\n",
    "y_test_pred = ___.predict(___)"
   ]
  },
  {
   "cell_type": "markdown",
   "metadata": {},
   "source": [
    "### 3.8. Đánh giá mô hình với Logistic Ridge Regression"
   ]
  },
  {
   "cell_type": "code",
   "execution_count": null,
   "metadata": {},
   "outputs": [],
   "source": [
    "import sklearn.metrics as metrics\n",
    "\n",
    "cm_test = metrics.confusion_matrix(y_true = ___, y_pred = ___)\n",
    "print(f'The test confusion matrix is:\\n {___}')\n",
    "\n",
    "accuracy = metrics.accuracy_score(y_true = ___, y_pred = ___)\n",
    "print(f'The test accuracy is: {___}')\n",
    "\n",
    "f1_score = metrics.f1_score(y_true = ___, y_pred = ___, average = ___)\n",
    "print(f'The test f1_score is: {___}')\n",
    "\n",
    "f1_micro = metrics.f1_score(y_true = ___, y_pred = ___, average = ___)\n",
    "print(f'The test f1_micro is: {___}')\n",
    "\n",
    "f1_macro = metrics.f1_score(y_true = ___, y_pred = ___, average = ___)\n",
    "print(f'The test f1_macro is: {___}')"
   ]
  },
  {
   "cell_type": "markdown",
   "metadata": {},
   "source": [
    "### 3.9. In ra các hệ số của Ridge Regression model"
   ]
  },
  {
   "cell_type": "code",
   "execution_count": null,
   "metadata": {},
   "outputs": [],
   "source": [
    "# Tạo một dictionary cho các coefficient với tên biến là các key\n",
    "logit_ridge_coef = dict(zip(X.columns, np.transpose(___.coef_[0]))) \n",
    "logit_ridge_coef"
   ]
  },
  {
   "cell_type": "code",
   "execution_count": null,
   "metadata": {},
   "outputs": [],
   "source": [
    "# Lasso regularisation coefficients\n",
    "logit_ridge_x = list(___.keys())\n",
    "logit_ridge_y = list(___.values())"
   ]
  },
  {
   "cell_type": "markdown",
   "metadata": {},
   "source": [
    "### 3.10. Dùng mô hình Logistic Lasso Regression"
   ]
  },
  {
   "cell_type": "code",
   "execution_count": null,
   "metadata": {},
   "outputs": [],
   "source": [
    "from sklearn.linear_model import LogisticRegression\n",
    "\n",
    "# Tạo một Logistic Lasso Regression model (penalty = 'l1') với C = 0.1 và solver = 'liblinear'\n",
    "logit_lasso = LogisticRegression(___, ___, ___, max_iter = 1e5)\n",
    "\n",
    "# Fit mô hình trên train data\n",
    "___.fit(___, ___)\n",
    "\n",
    "# Predict trên test data\n",
    "y_test_pred = ___.predict(___)"
   ]
  },
  {
   "cell_type": "markdown",
   "metadata": {},
   "source": [
    "### 3.11. Đánh giá mô hình Logistic Lasso Regression"
   ]
  },
  {
   "cell_type": "code",
   "execution_count": null,
   "metadata": {},
   "outputs": [],
   "source": [
    "import sklearn.metrics as metrics\n",
    "\n",
    "cm_test = metrics.confusion_matrix(y_true = ___, y_pred = ___)\n",
    "print(f'The test confusion matrix is:\\n {___}')\n",
    "\n",
    "accuracy = metrics.accuracy_score(y_true = ___, y_pred = ___)\n",
    "print(f'The test accuracy is: {___}')\n",
    "\n",
    "f1_score = metrics.f1_score(y_true = ___, y_pred = ___, average = ___)\n",
    "print(f'The test f1_score is: {___}')\n",
    "\n",
    "f1_micro = metrics.f1_score(y_true = ___, y_pred = ___, average = ___)\n",
    "print(f'The test f1_micro is: {___}')\n",
    "\n",
    "f1_macro = metrics.f1_score(y_true = ___, y_pred = ___, average = ___)\n",
    "print(f'The test f1_macro is: {___}')"
   ]
  },
  {
   "cell_type": "markdown",
   "metadata": {},
   "source": [
    "### 3.12. In ra các hệ số của Lasso Logistic Regression model"
   ]
  },
  {
   "cell_type": "code",
   "execution_count": null,
   "metadata": {},
   "outputs": [],
   "source": [
    "# Tạo một dictionary cho các coefficient với tên biến là các key\n",
    "logit_lasso_coef = dict(zip(X.columns, np.transpose(___.coef_[0]))) \n",
    "logit_lasso_coef"
   ]
  },
  {
   "cell_type": "code",
   "execution_count": null,
   "metadata": {},
   "outputs": [],
   "source": [
    "# Lasso regularization coefficients\n",
    "logit_lasso_x = list(___.keys())\n",
    "logit_lasso_y = list(___.values())"
   ]
  },
  {
   "cell_type": "markdown",
   "metadata": {},
   "source": [
    "### 3.13. Dùng mô hình Logistic ElasticNet Regression"
   ]
  },
  {
   "cell_type": "code",
   "execution_count": null,
   "metadata": {},
   "outputs": [],
   "source": [
    "from sklearn.linear_model import LogisticRegression\n",
    "\n",
    "# Tạo một Logistic ElasticNet Regression model (penalty = 'elasticnet') \n",
    "# với solver = 'saga', C = 0.1, l1_ratio = 0.5\n",
    "logit_elasticnet = LogisticRegression(___, \n",
    "                                      ___, \n",
    "                                      ___, \n",
    "                                      ___, \n",
    "                                      max_iter = 1e5)\n",
    "\n",
    "# Fit mô hình trên train data\n",
    "___.fit(___, ___)\n",
    "\n",
    "# Predict trên test data\n",
    "y_test_pred = ___.predict(___)"
   ]
  },
  {
   "cell_type": "markdown",
   "metadata": {},
   "source": [
    "### 3.14. Đánh giá mô hình Logistic ElasticNet Regression"
   ]
  },
  {
   "cell_type": "code",
   "execution_count": null,
   "metadata": {},
   "outputs": [],
   "source": [
    "import sklearn.metrics as metrics\n",
    "\n",
    "cm_test = metrics.confusion_matrix(y_true = ___, y_pred = ___)\n",
    "print(f'The test confusion matrix is:\\n {___}')\n",
    "\n",
    "accuracy = metrics.accuracy_score(y_true = ___, y_pred = ___)\n",
    "print(f'The test accuracy is: {___}')\n",
    "\n",
    "f1_score = metrics.f1_score(y_true = ___, y_pred = ___, average = ___)\n",
    "print(f'The test f1_score is: {___}')\n",
    "\n",
    "f1_micro = metrics.f1_score(y_true = ___, y_pred = ___, average = ___)\n",
    "print(f'The test f1_micro is: {___}')\n",
    "\n",
    "f1_macro = metrics.f1_score(y_true = ___, y_pred = ___, average = ___)\n",
    "print(f'The test f1_macro is: {___}')"
   ]
  },
  {
   "cell_type": "markdown",
   "metadata": {},
   "source": [
    "### 3.16. In ra các hệ số của ElasticNet Regression model"
   ]
  },
  {
   "cell_type": "code",
   "execution_count": null,
   "metadata": {},
   "outputs": [],
   "source": [
    "# Tạo một dictionary cho các coefficient với tên biến là các key\n",
    "logit_elasticnet_coef = dict(zip(X.columns, np.transpose(___.coef_[0]))) \n",
    "logit_elasticnet_coef"
   ]
  },
  {
   "cell_type": "code",
   "execution_count": null,
   "metadata": {},
   "outputs": [],
   "source": [
    "# ElasticNet regularisation coefficients\n",
    "logit_elasticnet_x = list(logit_elasticnet_coef.keys())\n",
    "logit_elasticnet_y = list(logit_elasticnet_coef.values())"
   ]
  },
  {
   "cell_type": "markdown",
   "metadata": {},
   "source": [
    "### 3.13. Vẽ biểu đồ so sánh hệ số của các mô hình"
   ]
  },
  {
   "cell_type": "code",
   "execution_count": null,
   "metadata": {},
   "outputs": [],
   "source": [
    "plt.rcdefaults()\n",
    "\n",
    "plt.barh(___, ___, 1.0, align = 'edge', color = \"blue\", label = \"Linear Regression\")\n",
    "plt.barh(___, ___, 0.75 ,align = 'edge', color = \"green\", label = \"Ridge Regularization\")\n",
    "plt.barh(___, ___, 0.5 ,align = 'edge', color = \"orange\", label = \"Lasso Regularization\")\n",
    "plt.barh(___, ___, 0.25 ,align = 'edge', color = \"red\", label = \"ElasticNet Regularization\")\n",
    "plt.grid(linewidth = 0.2)\n",
    "plt.xlabel(\"Coefficient value\")\n",
    "plt.ylabel(\"Variables\")\n",
    "plt.legend(loc = 'best')\n",
    "plt.xlim(-2, 2)\n",
    "plt.show()"
   ]
  },
  {
   "cell_type": "markdown",
   "metadata": {},
   "source": [
    "### 3.14. Nhận xét về các mô hình\n",
    "\n",
    "Nhận xét về hiệu quả của Logistic Lasso Regression, Logistic ElasticNet Regression, và Logistic Ridge Regression so với Logistic Regression\n",
    "\n",
    "- \n",
    "\n",
    "- \n"
   ]
  },
  {
   "cell_type": "markdown",
   "metadata": {},
   "source": [
    "## 4. Model selection cho Logistic Ridge Regression dùng phương pháp holdout\n",
    "\n",
    "![holdout_model_selection](./image/holdout_model_selection.JPG)"
   ]
  },
  {
   "cell_type": "markdown",
   "metadata": {},
   "source": [
    "### 4.1. Chia dữ liệu"
   ]
  },
  {
   "cell_type": "code",
   "execution_count": null,
   "metadata": {},
   "outputs": [],
   "source": [
    "# Chia dữ liệu thành 2 tập train_val và test set với tỷ lệ 80/20\n",
    "X_train_val, X_test, y_train_val, y_test = train_test_split(\n",
    "    ___, ___, test_size = ___, random_state = 1)\n",
    "\n",
    "# Tiếp theo, chia tập train_val thành 2 tập train và validation set với tỷ lệ 75/25\n",
    "X_train, X_val, y_train, y_val = train_test_split(\n",
    "    ___, ___, test_size = ___, random_state = 1)"
   ]
  },
  {
   "cell_type": "markdown",
   "metadata": {},
   "source": [
    "### 4.2. Huấn luyện mô hình với các giá trị tham số `C` khác nhau"
   ]
  },
  {
   "cell_type": "code",
   "execution_count": null,
   "metadata": {},
   "outputs": [],
   "source": [
    "import numpy as np\n",
    "\n",
    "# Create three lists for train, validation, and test F1-score\n",
    "train_f1 = []\n",
    "val_f1 = []\n",
    "test_f1 = []\n",
    "\n",
    "# List of hyper-parameter values \n",
    "Cs = [1e-4, 1e-3, 1e-2, 1e-1, 1, 10, 1e2, 1e3, 1e4]\n",
    "\n",
    "# Loop over all the C values\n",
    "for C in Cs:\n",
    "    # Tạo mô hình Logistic Ridge regression với tham số C\n",
    "    logit_ridge = LogisticRegression(penalty = ___, \n",
    "                                      solver = ___, \n",
    "                                      max_iter = 1e5, \n",
    "                                      C = ___)\n",
    "\n",
    "    # Fit mô hình trên train data\n",
    "    logit_ridge.fit(___, ___)\n",
    "    \n",
    "    # Predict trên train set \n",
    "    y_train_pred = ___.predict(___)\n",
    "    \n",
    "    # Predict trên validation set \n",
    "    y_val_pred = ___.predict(___)\n",
    "\n",
    "    # Predict trên test set \n",
    "    y_test_pred = ___.predict(___)\n",
    "    \n",
    "    # Tính train, validation, và test F1-score\n",
    "    f1_train = metrics.f1_score(y_true = ___, y_pred = ___, average = ___)\n",
    "    f1_val = metrics.f1_score(y_true = ___, y_pred = ___, average = ___)\n",
    "    f1_test = metrics.f1_score(y_true = ___, y_pred = ___, average = ___)\n",
    "    \n",
    "    # Thêm các F1-score vào các list tương ứng\n",
    "    ___.append(___)\n",
    "    ___.append(___)\n",
    "    ___.append(___)\n",
    "    \n",
    "    # In ra train, validation, và test F1-score theo C\n",
    "    print('C: {:7} | train f1: {:5} | val f1: {:5} | test f1: {:5}'.\n",
    "          format(___, round(___, 2), round(___, 2), round(___, 2)))"
   ]
  },
  {
   "cell_type": "markdown",
   "metadata": {},
   "source": [
    "### 4.3. Chọn giá trị `C` cho kết quả tốt nhất trên validation set"
   ]
  },
  {
   "cell_type": "code",
   "execution_count": null,
   "metadata": {},
   "outputs": [],
   "source": [
    "# Chọn giá trị C (hyper-parameter), cho val F1-score lớn nhất trên validation data \n",
    "best_C = ___\n",
    "\n",
    "# In ra best C (hyper-parameter)\n",
    "print(f'The best C (hyper-parameter) value, C = {___}')"
   ]
  },
  {
   "cell_type": "markdown",
   "metadata": {},
   "source": [
    "### 4.4. Vẽ biểu đồ train/val/test F1-score theo C"
   ]
  },
  {
   "cell_type": "code",
   "execution_count": null,
   "metadata": {},
   "outputs": [],
   "source": [
    "fig, ax = plt.subplots(figsize = (12, 8))\n",
    "\n",
    "# Vẽ biểu đồ train F1-score theo các giá trị C\n",
    "ax.plot(___, ___, 's--', label = 'Train error', color = 'blue', linewidth = 2)\n",
    "\n",
    "# Vẽ biểu đồ validation F1-score theo các giá trị C\n",
    "ax.plot(___, ___, 's-', label = 'Val error', color ='green', linewidth = 2)\n",
    "\n",
    "# Vẽ biểu đồ test F1-score theo các giá trị C\n",
    "ax.plot(___, ___, 's-', label = 'Test error', color ='purple', linewidth = 2)\n",
    "\n",
    "# Vẽ đường thẳng đứng ứng với best C\n",
    "ax.axvline(___, 0, 1, color = 'r', label = f'Max validation F1-score at C = {1}')\n",
    "\n",
    "ax.set_xlabel('Value of C', fontsize = 15)\n",
    "ax.set_ylabel('F1-score', fontsize = 15)\n",
    "ax.set_ylim([0, 1])\n",
    "ax.legend(loc = 'lower left', fontsize = 16)\n",
    "ax.set_title('F1-score', fontsize = 20)\n",
    "ax.set_xscale('log')\n",
    "plt.tight_layout()\n",
    "plt.show();"
   ]
  },
  {
   "cell_type": "markdown",
   "metadata": {},
   "source": [
    "## 5. Model selection cho Lasso Regression dùng phương pháp holdout\n",
    "\n",
    "### 5.1. Huấn luyện mô hình với các giá trị tham số `C` khác nhau"
   ]
  },
  {
   "cell_type": "code",
   "execution_count": null,
   "metadata": {},
   "outputs": [],
   "source": [
    "# Create three lists for train, validation, and test F1-score\n",
    "train_f1 = []\n",
    "val_f1 = []\n",
    "test_f1 = []\n",
    "\n",
    "# List of hyper-parameter values \n",
    "Cs = [1e-4, 1e-3, 1e-2, 1e-1, 1, 10, 1e2, 1e3, 1e4]\n",
    "\n",
    "# Loop over all the C values\n",
    "for C in Cs:\n",
    "    # Tạo một Lasso regression với tham số C\n",
    "    logit_lasso = LogisticRegression(penalty = ___, \n",
    "                                      solver = ___, \n",
    "                                      max_iter = 1e5, \n",
    "                                      C = ___)\n",
    "\n",
    "    # Fit mô hình trên train data\n",
    "    ___.fit(___, ___)\n",
    "    \n",
    "    # Predict trên train set \n",
    "    y_train_pred = ___.predict(___)\n",
    "    \n",
    "    # Predict trên validation set \n",
    "    y_val_pred = ___.predict(___)\n",
    "\n",
    "    # Predict trên test set \n",
    "    y_test_pred = ___.predict(___)\n",
    "    \n",
    "    # Tính train, validation, và test F1-score\n",
    "    f1_train = metrics.f1_score(y_true = ___, y_pred = ___, average = ___)\n",
    "    f1_val = metrics.f1_score(y_true = ___, y_pred = ___, average = ___)\n",
    "    f1_test = metrics.f1_score(y_true = ___, y_pred = ___, average = ___)\n",
    "    \n",
    "    # Thêm các F1-score vào các list tương ứng\n",
    "    ___.append(___)\n",
    "    ___.append(___)\n",
    "    ___.append(___)\n",
    "    \n",
    "    # In ra train, validation, và test F1-score theo C\n",
    "    print('C: {:7} | train F1-score: {:5} | val F1-score: {:5} | test F1-score: {:5}'.\n",
    "          format(___, round(___, 2), round(___, 2), round(___, 2)))"
   ]
  },
  {
   "cell_type": "markdown",
   "metadata": {},
   "source": [
    "### 5.2. Chọn giá trị C cho kết quả tốt nhất trên validation set"
   ]
  },
  {
   "cell_type": "code",
   "execution_count": null,
   "metadata": {},
   "outputs": [],
   "source": [
    "# Chọn giá trị C (hyper-parameter), cho val F1-score nhỏ nhất trên validation data \n",
    "best_C = ___\n",
    "\n",
    "# In ra best C (hyper-parameter)\n",
    "print(f'The best C (hyper-parameter) value, C = {___}')"
   ]
  },
  {
   "cell_type": "markdown",
   "metadata": {},
   "source": [
    "### 5.3. Vẽ biểu đồ train/val/test F1-score theo C"
   ]
  },
  {
   "cell_type": "code",
   "execution_count": null,
   "metadata": {},
   "outputs": [],
   "source": [
    "fig, ax = plt.subplots(figsize = (12, 8))\n",
    "\n",
    "# Vẽ biểu đồ train F1-score theo các giá trị C\n",
    "ax.plot(___, ___, 's--', label = 'Train error', color = 'blue', linewidth = 2)\n",
    "\n",
    "# Vẽ biểu đồ validation F1-score theo các giá trị C\n",
    "ax.plot(___, ___, 's-', label = 'Val error', color ='green', linewidth = 2)\n",
    "\n",
    "# Vẽ biểu đồ test F1-score theo các giá trị C\n",
    "ax.plot(___, ___, 's-', label = 'Test error', color ='purple', linewidth = 2)\n",
    "\n",
    "# Vẽ đường thẳng đứng ứng với best C\n",
    "ax.axvline(___, 0, 1, color = 'r', label = f'Max validation F1-score at C = {1}')\n",
    "\n",
    "ax.set_xlabel('Value of C', fontsize = 15)\n",
    "ax.set_ylabel('F1-score', fontsize = 15)\n",
    "ax.set_ylim([0, 1])\n",
    "ax.legend(loc = 'lower right', fontsize = 16)\n",
    "ax.set_title('F1-score', fontsize = 20)\n",
    "ax.set_xscale('log')\n",
    "plt.tight_layout()\n",
    "plt.show();"
   ]
  },
  {
   "cell_type": "markdown",
   "metadata": {},
   "source": [
    "## 6. Model selection cho Logistic Lasso Regression dùng phương pháp cross validation\n",
    "\n",
    "![k-folds cv model selection](./image/cross_val.png)"
   ]
  },
  {
   "cell_type": "markdown",
   "metadata": {},
   "source": [
    "### 6.1. Chia dữ liệu"
   ]
  },
  {
   "cell_type": "code",
   "execution_count": null,
   "metadata": {},
   "outputs": [],
   "source": [
    "# Chia dữ liệu thành 2 tập train và test set với tỷ lệ 80/20\n",
    "X_train, X_test, y_train, y_test = train_test_split(\n",
    "    ___, ___, test_size = ___, random_state = 1)"
   ]
  },
  {
   "cell_type": "markdown",
   "metadata": {},
   "source": [
    "### 6.2. Dùng cross validation cho model selection"
   ]
  },
  {
   "cell_type": "code",
   "execution_count": null,
   "metadata": {},
   "outputs": [],
   "source": [
    "import numpy as np\n",
    "from sklearn.linear_model import Lasso\n",
    "from sklearn.model_selection import KFold\n",
    "from sklearn.metrics import f1_score\n",
    "\n",
    "Cs = [1e-4, 1e-3, 1e-2, 1e-1, 1, 10, 1e2, 1e3, 1e4]\n",
    "\n",
    "K = 5\n",
    "kf = KFold(n_splits = K, shuffle = True, random_state = 1)\n",
    "\n",
    "for C in Cs:\n",
    "    train_f1s = []\n",
    "    test_f1s = []\n",
    "    for train_index, test_index in kf.split(oh_X, y):\n",
    "        \n",
    "        # split data theo train_index và test_index\n",
    "        X_train, X_test = ___[train_index], ___[test_index]\n",
    "        y_train, y_test = ___[train_index], ___[test_index]\n",
    "\n",
    "        # Tạo model theo C\n",
    "        logit_lasso = LogisticRegression(penalty = ___, \n",
    "                                         C = ___,\n",
    "                                         solver = ___, \n",
    "                                         max_iter = 1e4, \n",
    "                                         fit_intercept = True, \n",
    "                                         random_state = 1)\n",
    "        \n",
    "        # Fit the model trên train set\n",
    "        ___.fit(___, ___)\n",
    "        \n",
    "        # Predict trên train và test set\n",
    "        y_train_pred = ___.predict(___)\n",
    "        y_test_pred = ___.predict(___)\n",
    "        \n",
    "        # Tính train và test F1-score\n",
    "        train_f1 = f1_score(___, ___)\n",
    "        test_f1 = f1_score(___, ___)\n",
    "        \n",
    "        # Thêm train và test F1-score vào các list tương ứng\n",
    "        ___.append(___)\n",
    "        ___.append(___)\n",
    "    \n",
    "    # In ra train, validation, và test F1-score theo alpha\n",
    "    print('C: {:6} | mean(train_f1): {:6} | mean(test_f1): {:6}'.\n",
    "          format(___, round(___, 2), round(___, 2)))"
   ]
  },
  {
   "cell_type": "markdown",
   "metadata": {},
   "source": [
    "## 7. Naive Bayes\n",
    "\n",
    "Tham khảo: \n",
    "\n",
    "1. https://scikit-learn.org/stable/modules/classes.html#module-sklearn.naive_bayes\n",
    "\n",
    "2. https://scikit-learn.org/stable/modules/naive_bayes.html#naive-bayes\n",
    "\n",
    "### 7.1. Huấn luyện mô hình Multinomial Naive Bayes với sklearn"
   ]
  },
  {
   "cell_type": "code",
   "execution_count": null,
   "metadata": {},
   "outputs": [],
   "source": [
    "from sklearn.naive_bayes import MultinomialNB\n",
    "\n",
    "# Tạo một MultinomialNB model với alpha = 0.01 và fit_prior = True\n",
    "mnb = MultinomialNB(___, ___)\n",
    "\n",
    "# Fit mô hình trên train data\n",
    "___.fit(___, ___)\n",
    "\n",
    "# Predict trên test data\n",
    "y_test_pred = ___.predict(___)"
   ]
  },
  {
   "cell_type": "code",
   "execution_count": null,
   "metadata": {},
   "outputs": [],
   "source": [
    "import sklearn.metrics as metrics\n",
    "\n",
    "cm_test = metrics.confusion_matrix(y_true = ___, y_pred = ___)\n",
    "print(f'The test confusion matrix is:\\n {___}')\n",
    "\n",
    "accuracy = metrics.accuracy_score(y_true = ___, y_pred = ___)\n",
    "print(f'The test accuracy is: {___}')\n",
    "\n",
    "f1_score = metrics.f1_score(y_true = ___, y_pred = ___, average = ___)\n",
    "print(f'The test f1_score is: {___}')\n",
    "\n",
    "f1_micro = metrics.f1_score(y_true = ___, y_pred = ___, average = ___)\n",
    "print(f'The test f1_micro is: {___}')\n",
    "\n",
    "f1_macro = metrics.f1_score(y_true = ___, y_pred = ___, average = ___)\n",
    "print(f'The test f1_macro is: {___}')"
   ]
  },
  {
   "cell_type": "markdown",
   "metadata": {},
   "source": [
    "### 7.2. Model selection cho MultinomialNB dùng phương pháp cross validation\n",
    "\n",
    "- Thực hiện các bước tương tự như phần hướng dẫn cho Logistic Regression ở mục 5."
   ]
  },
  {
   "cell_type": "code",
   "execution_count": null,
   "metadata": {},
   "outputs": [],
   "source": []
  }
 ],
 "metadata": {
  "kernelspec": {
   "display_name": "Python 3",
   "language": "python",
   "name": "python3"
  },
  "language_info": {
   "codemirror_mode": {
    "name": "ipython",
    "version": 3
   },
   "file_extension": ".py",
   "mimetype": "text/x-python",
   "name": "python",
   "nbconvert_exporter": "python",
   "pygments_lexer": "ipython3",
   "version": "3.7.6"
  }
 },
 "nbformat": 4,
 "nbformat_minor": 4
}
